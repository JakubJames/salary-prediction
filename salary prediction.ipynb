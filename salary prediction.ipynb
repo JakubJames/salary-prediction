{
  "nbformat": 4,
  "nbformat_minor": 0,
  "metadata": {
    "colab": {
      "provenance": []
    },
    "kernelspec": {
      "name": "python3",
      "display_name": "Python 3"
    },
    "language_info": {
      "name": "python"
    }
  },
  "cells": [
    {
      "cell_type": "markdown",
      "source": [
        "# Przewidywanie wynagrodzenia data scientist\n",
        "### Opis projektu\n",
        "Projekt ten może pomóc w wyborze kariery zawodowej osobie, której zależy na pieniądzach :)\\\n",
        "Po wybraniu zawodu, waluty, kraju model pokaże przewidywane wynagrodzenie.\\\n",
        "Dataset źródłowy: https://www.kaggle.com/datasets/ruchi798/data-science-job-salaries \\\n",
        "Dataset pomocniczy z PKP per capita: https://www.kaggle.com/datasets/zgrcemta/world-gdpgdp-gdp-per-capita-and-annual-growths?select=gdp_per_capita.csv \\\n",
        "W powyższym datasetcie można znaleźć takie dane jak, rok w którym wypłacono wynagrodzenie, doświadczenie, forme zatrudnienia, zawód, wynagrodzenie, walutę wynagrodzenia, wynagrodzenie w przeliczeniu na dolary, miejsce zamieszkania pracownika, stosunek pracy zdalnej do stacjonarnej, lokalizacja firmy i wielkość firmy.\\\n",
        "Dataset ma około 600 rekordów.\n",
        "Do przewidywania wynagrodzenia użyję regresji liniowej. Model będzie ewaluowany za pomocą:\\\n",
        "Mean Absolute Error – sprawdza średni błąd predykcji\\\n",
        "Root Mean Squared Error -  podobnie do MAE, ale jest bardziej wyczulony na nierównomiernie rozkład różnicy błędów\\\n",
        "Coefficient of determination (R- squared) – miara stopnia w jakim model pasuje do próby \\"
      ],
      "metadata": {
        "id": "3Eq-iIp5qLSi"
      }
    },
    {
      "cell_type": "code",
      "execution_count": null,
      "metadata": {
        "id": "QG5Om8klrpkt",
        "colab": {
          "base_uri": "https://localhost:8080/"
        },
        "outputId": "63a762c1-eccf-4c00-96ff-286a6d1a5978"
      },
      "outputs": [
        {
          "output_type": "stream",
          "name": "stdout",
          "text": [
            "Drive already mounted at /content/drive; to attempt to forcibly remount, call drive.mount(\"/content/drive\", force_remount=True).\n"
          ]
        }
      ],
      "source": [
        "# podłączenie do dysku google\n",
        "from google.colab import drive\n",
        "drive.mount('/content/drive')"
      ]
    },
    {
      "cell_type": "code",
      "source": [
        "# import bibliotek\n",
        "import pandas as pd\n",
        "import numpy as np\n",
        "from sklearn.linear_model import LinearRegression\n",
        "from sklearn.model_selection import train_test_split\n",
        "from sklearn.metrics import mean_squared_error, r2_score\n",
        "#import pycountry\n",
        "import plotly.express as px\n",
        "import matplotlib.pyplot as plt\n",
        "import seaborn as sb"
      ],
      "metadata": {
        "id": "2jqfzHZ_v-_B"
      },
      "execution_count": null,
      "outputs": []
    },
    {
      "cell_type": "code",
      "source": [
        "# wczytanie, wgląd w pierwsze rekordy\n",
        "df = pd.read_csv('/content/drive/MyDrive/ds_salaries.csv')\n",
        "df.head(10)"
      ],
      "metadata": {
        "colab": {
          "base_uri": "https://localhost:8080/",
          "height": 363
        },
        "id": "CDNvalo8umwN",
        "outputId": "f2ddb3bc-98dc-4a10-db9c-3b7bdbca6f34"
      },
      "execution_count": null,
      "outputs": [
        {
          "output_type": "execute_result",
          "data": {
            "text/plain": [
              "   Unnamed: 0  work_year experience_level employment_type  \\\n",
              "0           0       2020               MI              FT   \n",
              "1           1       2020               SE              FT   \n",
              "2           2       2020               SE              FT   \n",
              "3           3       2020               MI              FT   \n",
              "4           4       2020               SE              FT   \n",
              "5           5       2020               EN              FT   \n",
              "6           6       2020               SE              FT   \n",
              "7           7       2020               MI              FT   \n",
              "8           8       2020               MI              FT   \n",
              "9           9       2020               SE              FT   \n",
              "\n",
              "                    job_title    salary salary_currency  salary_in_usd  \\\n",
              "0              Data Scientist     70000             EUR          79833   \n",
              "1  Machine Learning Scientist    260000             USD         260000   \n",
              "2           Big Data Engineer     85000             GBP         109024   \n",
              "3        Product Data Analyst     20000             USD          20000   \n",
              "4   Machine Learning Engineer    150000             USD         150000   \n",
              "5                Data Analyst     72000             USD          72000   \n",
              "6         Lead Data Scientist    190000             USD         190000   \n",
              "7              Data Scientist  11000000             HUF          35735   \n",
              "8       Business Data Analyst    135000             USD         135000   \n",
              "9          Lead Data Engineer    125000             USD         125000   \n",
              "\n",
              "  employee_residence  remote_ratio company_location company_size  \n",
              "0                 DE             0               DE            L  \n",
              "1                 JP             0               JP            S  \n",
              "2                 GB            50               GB            M  \n",
              "3                 HN             0               HN            S  \n",
              "4                 US            50               US            L  \n",
              "5                 US           100               US            L  \n",
              "6                 US           100               US            S  \n",
              "7                 HU            50               HU            L  \n",
              "8                 US           100               US            L  \n",
              "9                 NZ            50               NZ            S  "
            ],
            "text/html": [
              "\n",
              "  <div id=\"df-95ce27d9-8425-4d92-8e1a-bb7e7c4d0ad0\">\n",
              "    <div class=\"colab-df-container\">\n",
              "      <div>\n",
              "<style scoped>\n",
              "    .dataframe tbody tr th:only-of-type {\n",
              "        vertical-align: middle;\n",
              "    }\n",
              "\n",
              "    .dataframe tbody tr th {\n",
              "        vertical-align: top;\n",
              "    }\n",
              "\n",
              "    .dataframe thead th {\n",
              "        text-align: right;\n",
              "    }\n",
              "</style>\n",
              "<table border=\"1\" class=\"dataframe\">\n",
              "  <thead>\n",
              "    <tr style=\"text-align: right;\">\n",
              "      <th></th>\n",
              "      <th>Unnamed: 0</th>\n",
              "      <th>work_year</th>\n",
              "      <th>experience_level</th>\n",
              "      <th>employment_type</th>\n",
              "      <th>job_title</th>\n",
              "      <th>salary</th>\n",
              "      <th>salary_currency</th>\n",
              "      <th>salary_in_usd</th>\n",
              "      <th>employee_residence</th>\n",
              "      <th>remote_ratio</th>\n",
              "      <th>company_location</th>\n",
              "      <th>company_size</th>\n",
              "    </tr>\n",
              "  </thead>\n",
              "  <tbody>\n",
              "    <tr>\n",
              "      <th>0</th>\n",
              "      <td>0</td>\n",
              "      <td>2020</td>\n",
              "      <td>MI</td>\n",
              "      <td>FT</td>\n",
              "      <td>Data Scientist</td>\n",
              "      <td>70000</td>\n",
              "      <td>EUR</td>\n",
              "      <td>79833</td>\n",
              "      <td>DE</td>\n",
              "      <td>0</td>\n",
              "      <td>DE</td>\n",
              "      <td>L</td>\n",
              "    </tr>\n",
              "    <tr>\n",
              "      <th>1</th>\n",
              "      <td>1</td>\n",
              "      <td>2020</td>\n",
              "      <td>SE</td>\n",
              "      <td>FT</td>\n",
              "      <td>Machine Learning Scientist</td>\n",
              "      <td>260000</td>\n",
              "      <td>USD</td>\n",
              "      <td>260000</td>\n",
              "      <td>JP</td>\n",
              "      <td>0</td>\n",
              "      <td>JP</td>\n",
              "      <td>S</td>\n",
              "    </tr>\n",
              "    <tr>\n",
              "      <th>2</th>\n",
              "      <td>2</td>\n",
              "      <td>2020</td>\n",
              "      <td>SE</td>\n",
              "      <td>FT</td>\n",
              "      <td>Big Data Engineer</td>\n",
              "      <td>85000</td>\n",
              "      <td>GBP</td>\n",
              "      <td>109024</td>\n",
              "      <td>GB</td>\n",
              "      <td>50</td>\n",
              "      <td>GB</td>\n",
              "      <td>M</td>\n",
              "    </tr>\n",
              "    <tr>\n",
              "      <th>3</th>\n",
              "      <td>3</td>\n",
              "      <td>2020</td>\n",
              "      <td>MI</td>\n",
              "      <td>FT</td>\n",
              "      <td>Product Data Analyst</td>\n",
              "      <td>20000</td>\n",
              "      <td>USD</td>\n",
              "      <td>20000</td>\n",
              "      <td>HN</td>\n",
              "      <td>0</td>\n",
              "      <td>HN</td>\n",
              "      <td>S</td>\n",
              "    </tr>\n",
              "    <tr>\n",
              "      <th>4</th>\n",
              "      <td>4</td>\n",
              "      <td>2020</td>\n",
              "      <td>SE</td>\n",
              "      <td>FT</td>\n",
              "      <td>Machine Learning Engineer</td>\n",
              "      <td>150000</td>\n",
              "      <td>USD</td>\n",
              "      <td>150000</td>\n",
              "      <td>US</td>\n",
              "      <td>50</td>\n",
              "      <td>US</td>\n",
              "      <td>L</td>\n",
              "    </tr>\n",
              "    <tr>\n",
              "      <th>5</th>\n",
              "      <td>5</td>\n",
              "      <td>2020</td>\n",
              "      <td>EN</td>\n",
              "      <td>FT</td>\n",
              "      <td>Data Analyst</td>\n",
              "      <td>72000</td>\n",
              "      <td>USD</td>\n",
              "      <td>72000</td>\n",
              "      <td>US</td>\n",
              "      <td>100</td>\n",
              "      <td>US</td>\n",
              "      <td>L</td>\n",
              "    </tr>\n",
              "    <tr>\n",
              "      <th>6</th>\n",
              "      <td>6</td>\n",
              "      <td>2020</td>\n",
              "      <td>SE</td>\n",
              "      <td>FT</td>\n",
              "      <td>Lead Data Scientist</td>\n",
              "      <td>190000</td>\n",
              "      <td>USD</td>\n",
              "      <td>190000</td>\n",
              "      <td>US</td>\n",
              "      <td>100</td>\n",
              "      <td>US</td>\n",
              "      <td>S</td>\n",
              "    </tr>\n",
              "    <tr>\n",
              "      <th>7</th>\n",
              "      <td>7</td>\n",
              "      <td>2020</td>\n",
              "      <td>MI</td>\n",
              "      <td>FT</td>\n",
              "      <td>Data Scientist</td>\n",
              "      <td>11000000</td>\n",
              "      <td>HUF</td>\n",
              "      <td>35735</td>\n",
              "      <td>HU</td>\n",
              "      <td>50</td>\n",
              "      <td>HU</td>\n",
              "      <td>L</td>\n",
              "    </tr>\n",
              "    <tr>\n",
              "      <th>8</th>\n",
              "      <td>8</td>\n",
              "      <td>2020</td>\n",
              "      <td>MI</td>\n",
              "      <td>FT</td>\n",
              "      <td>Business Data Analyst</td>\n",
              "      <td>135000</td>\n",
              "      <td>USD</td>\n",
              "      <td>135000</td>\n",
              "      <td>US</td>\n",
              "      <td>100</td>\n",
              "      <td>US</td>\n",
              "      <td>L</td>\n",
              "    </tr>\n",
              "    <tr>\n",
              "      <th>9</th>\n",
              "      <td>9</td>\n",
              "      <td>2020</td>\n",
              "      <td>SE</td>\n",
              "      <td>FT</td>\n",
              "      <td>Lead Data Engineer</td>\n",
              "      <td>125000</td>\n",
              "      <td>USD</td>\n",
              "      <td>125000</td>\n",
              "      <td>NZ</td>\n",
              "      <td>50</td>\n",
              "      <td>NZ</td>\n",
              "      <td>S</td>\n",
              "    </tr>\n",
              "  </tbody>\n",
              "</table>\n",
              "</div>\n",
              "      <button class=\"colab-df-convert\" onclick=\"convertToInteractive('df-95ce27d9-8425-4d92-8e1a-bb7e7c4d0ad0')\"\n",
              "              title=\"Convert this dataframe to an interactive table.\"\n",
              "              style=\"display:none;\">\n",
              "        \n",
              "  <svg xmlns=\"http://www.w3.org/2000/svg\" height=\"24px\"viewBox=\"0 0 24 24\"\n",
              "       width=\"24px\">\n",
              "    <path d=\"M0 0h24v24H0V0z\" fill=\"none\"/>\n",
              "    <path d=\"M18.56 5.44l.94 2.06.94-2.06 2.06-.94-2.06-.94-.94-2.06-.94 2.06-2.06.94zm-11 1L8.5 8.5l.94-2.06 2.06-.94-2.06-.94L8.5 2.5l-.94 2.06-2.06.94zm10 10l.94 2.06.94-2.06 2.06-.94-2.06-.94-.94-2.06-.94 2.06-2.06.94z\"/><path d=\"M17.41 7.96l-1.37-1.37c-.4-.4-.92-.59-1.43-.59-.52 0-1.04.2-1.43.59L10.3 9.45l-7.72 7.72c-.78.78-.78 2.05 0 2.83L4 21.41c.39.39.9.59 1.41.59.51 0 1.02-.2 1.41-.59l7.78-7.78 2.81-2.81c.8-.78.8-2.07 0-2.86zM5.41 20L4 18.59l7.72-7.72 1.47 1.35L5.41 20z\"/>\n",
              "  </svg>\n",
              "      </button>\n",
              "      \n",
              "  <style>\n",
              "    .colab-df-container {\n",
              "      display:flex;\n",
              "      flex-wrap:wrap;\n",
              "      gap: 12px;\n",
              "    }\n",
              "\n",
              "    .colab-df-convert {\n",
              "      background-color: #E8F0FE;\n",
              "      border: none;\n",
              "      border-radius: 50%;\n",
              "      cursor: pointer;\n",
              "      display: none;\n",
              "      fill: #1967D2;\n",
              "      height: 32px;\n",
              "      padding: 0 0 0 0;\n",
              "      width: 32px;\n",
              "    }\n",
              "\n",
              "    .colab-df-convert:hover {\n",
              "      background-color: #E2EBFA;\n",
              "      box-shadow: 0px 1px 2px rgba(60, 64, 67, 0.3), 0px 1px 3px 1px rgba(60, 64, 67, 0.15);\n",
              "      fill: #174EA6;\n",
              "    }\n",
              "\n",
              "    [theme=dark] .colab-df-convert {\n",
              "      background-color: #3B4455;\n",
              "      fill: #D2E3FC;\n",
              "    }\n",
              "\n",
              "    [theme=dark] .colab-df-convert:hover {\n",
              "      background-color: #434B5C;\n",
              "      box-shadow: 0px 1px 3px 1px rgba(0, 0, 0, 0.15);\n",
              "      filter: drop-shadow(0px 1px 2px rgba(0, 0, 0, 0.3));\n",
              "      fill: #FFFFFF;\n",
              "    }\n",
              "  </style>\n",
              "\n",
              "      <script>\n",
              "        const buttonEl =\n",
              "          document.querySelector('#df-95ce27d9-8425-4d92-8e1a-bb7e7c4d0ad0 button.colab-df-convert');\n",
              "        buttonEl.style.display =\n",
              "          google.colab.kernel.accessAllowed ? 'block' : 'none';\n",
              "\n",
              "        async function convertToInteractive(key) {\n",
              "          const element = document.querySelector('#df-95ce27d9-8425-4d92-8e1a-bb7e7c4d0ad0');\n",
              "          const dataTable =\n",
              "            await google.colab.kernel.invokeFunction('convertToInteractive',\n",
              "                                                     [key], {});\n",
              "          if (!dataTable) return;\n",
              "\n",
              "          const docLinkHtml = 'Like what you see? Visit the ' +\n",
              "            '<a target=\"_blank\" href=https://colab.research.google.com/notebooks/data_table.ipynb>data table notebook</a>'\n",
              "            + ' to learn more about interactive tables.';\n",
              "          element.innerHTML = '';\n",
              "          dataTable['output_type'] = 'display_data';\n",
              "          await google.colab.output.renderOutput(dataTable, element);\n",
              "          const docLink = document.createElement('div');\n",
              "          docLink.innerHTML = docLinkHtml;\n",
              "          element.appendChild(docLink);\n",
              "        }\n",
              "      </script>\n",
              "    </div>\n",
              "  </div>\n",
              "  "
            ]
          },
          "metadata": {},
          "execution_count": 1054
        }
      ]
    },
    {
      "cell_type": "code",
      "source": [
        "df.columns"
      ],
      "metadata": {
        "colab": {
          "base_uri": "https://localhost:8080/"
        },
        "id": "pdRbjWolw02m",
        "outputId": "4ebb7cab-8d5f-4e08-a219-aacf4cb4c4ae"
      },
      "execution_count": null,
      "outputs": [
        {
          "output_type": "execute_result",
          "data": {
            "text/plain": [
              "Index(['Unnamed: 0', 'work_year', 'experience_level', 'employment_type',\n",
              "       'job_title', 'salary', 'salary_currency', 'salary_in_usd',\n",
              "       'employee_residence', 'remote_ratio', 'company_location',\n",
              "       'company_size'],\n",
              "      dtype='object')"
            ]
          },
          "metadata": {},
          "execution_count": 1055
        }
      ]
    },
    {
      "cell_type": "markdown",
      "source": [
        "Zestaw danych zawiera 11 kolumn (+ indeks):\n",
        "1. work_year - rok w który zapłacono to wynagrodzenie.\n",
        "2. experience_level - poziom doświadczenia pracownika.\n",
        "3. employment_type - typ zatrudnienia.\n",
        "4. job_title - stanowisko/nazwa zawodu.\n",
        "5. salary - roczne wynagrodzenie brutto.\n",
        "6. salary_currency - waluta podanego wynagrodzenia.\n",
        "7. salary_in_usd - roczne wynagrodzenie brutto przeliczone na dolary.\n",
        "8. employee_residence - kod kraju rezydowania pracownika.\n",
        "9. remote_ratio - jaka część (w procentach) pracy była pracą zdalną.\n",
        "10. company_location: kod kraju w którym zlokalizowana jest firma.\n",
        "11. company_size: rozmiar firmy"
      ],
      "metadata": {
        "id": "lUKOW1lMw95W"
      }
    },
    {
      "cell_type": "markdown",
      "source": [
        "Które ze zmiennych są najbardziej skorelowane z wynagrodzeniem?"
      ],
      "metadata": {
        "id": "GlbTtrYdyWlI"
      }
    },
    {
      "cell_type": "code",
      "source": [
        "dfcorr=df.drop(df.columns[0], axis=1)\n",
        "dfcorr['work_year']=dfcorr['work_year'].astype('category').cat.codes\n",
        "dfcorr['experience_level']=df['experience_level'].astype('category').cat.codes\n",
        "dfcorr['employment_type']=df['employment_type'].astype('category').cat.codes\n",
        "dfcorr['job_title']=df['job_title'].astype('category').cat.codes\n",
        "dfcorr['employee_residence']=df['employee_residence'].astype('category').cat.codes\n",
        "dfcorr['company_location']=df['company_location'].astype('category').cat.codes\n",
        "dfcorr['company_size']=df['company_size'].astype('category').cat.codes\n",
        "corr = dfcorr.corr()\n",
        "fig, ax = plt.subplots(figsize=(15,10))\n",
        "sb.heatmap(corr, cmap=\"Blues\", annot=True)"
      ],
      "metadata": {
        "colab": {
          "base_uri": "https://localhost:8080/",
          "height": 705
        },
        "id": "mzuwjfX9ycW3",
        "outputId": "81d3f2cb-2c0e-4d2a-c41b-109c29cb2665"
      },
      "execution_count": null,
      "outputs": [
        {
          "output_type": "execute_result",
          "data": {
            "text/plain": [
              "<matplotlib.axes._subplots.AxesSubplot at 0x7fa5207b02e0>"
            ]
          },
          "metadata": {},
          "execution_count": 1056
        },
        {
          "output_type": "display_data",
          "data": {
            "text/plain": [
              "<Figure size 1080x720 with 2 Axes>"
            ],
            "image/png": "[encoded data removed]"
          },
          "metadata": {
            "needs_background": "light"
          }
        }
      ]
    },
    {
      "cell_type": "markdown",
      "source": [
        "## Czy w zestawie danych istnieją brakujące wartości, błędy danych itp.?\n",
        "Wybór kolumn i czyszczenie danych"
      ],
      "metadata": {
        "id": "Z0GwFNiK0Mud"
      }
    },
    {
      "cell_type": "code",
      "source": [
        "df.isna().any()"
      ],
      "metadata": {
        "colab": {
          "base_uri": "https://localhost:8080/"
        },
        "id": "vWv3Hp3Kz7fe",
        "outputId": "9d169412-ce5d-4eb7-eeb8-d58c29e0b066"
      },
      "execution_count": null,
      "outputs": [
        {
          "output_type": "execute_result",
          "data": {
            "text/plain": [
              "Unnamed: 0            False\n",
              "work_year             False\n",
              "experience_level      False\n",
              "employment_type       False\n",
              "job_title             False\n",
              "salary                False\n",
              "salary_currency       False\n",
              "salary_in_usd         False\n",
              "employee_residence    False\n",
              "remote_ratio          False\n",
              "company_location      False\n",
              "company_size          False\n",
              "dtype: bool"
            ]
          },
          "metadata": {},
          "execution_count": 1057
        }
      ]
    },
    {
      "cell_type": "markdown",
      "source": [
        "### Sprawdzenie wartości unikalnych"
      ],
      "metadata": {
        "id": "AAuiOH3W0rzV"
      }
    },
    {
      "cell_type": "code",
      "source": [
        "print('work_year:',df['work_year'].unique())"
      ],
      "metadata": {
        "colab": {
          "base_uri": "https://localhost:8080/"
        },
        "id": "e8Gapc0Ts-UH",
        "outputId": "aa5dcc1b-5e13-4c9d-eca3-194b5f05f29b"
      },
      "execution_count": null,
      "outputs": [
        {
          "output_type": "stream",
          "name": "stdout",
          "text": [
            "work_year: [2020 2021 2022]\n"
          ]
        }
      ]
    },
    {
      "cell_type": "markdown",
      "source": [
        "Dane pochodzą z lat 2020-2022"
      ],
      "metadata": {
        "id": "7WfCMg-I4cM7"
      }
    },
    {
      "cell_type": "code",
      "source": [
        "print('experience_level:',df['experience_level'].unique())"
      ],
      "metadata": {
        "colab": {
          "base_uri": "https://localhost:8080/"
        },
        "id": "RN2yzeEw4bqB",
        "outputId": "05690e5c-eb1a-4425-b9b2-1f9a80a894ca"
      },
      "execution_count": null,
      "outputs": [
        {
          "output_type": "stream",
          "name": "stdout",
          "text": [
            "experience_level: ['MI' 'SE' 'EN' 'EX']\n"
          ]
        }
      ]
    },
    {
      "cell_type": "markdown",
      "source": [
        "Skróty te mogą nie być łatwe do rozszyfrowania, ale w tym pomoże opis tego zestawu danych na kaggle'u:\\\n",
        "EN: Entry-level / Junior\\\n",
        "MI: Mid-level / Intermediate\\\n",
        "SE: Senior-level / Expert\\\n",
        "EX: Executive-level / Director"
      ],
      "metadata": {
        "id": "EXBqjvoa4wbh"
      }
    },
    {
      "cell_type": "code",
      "source": [
        "print('employment_type:',df['employment_type'].unique())"
      ],
      "metadata": {
        "colab": {
          "base_uri": "https://localhost:8080/"
        },
        "id": "9ksTHtMS5_1k",
        "outputId": "ee735a4c-3af0-4526-ff3f-17f912878fa0"
      },
      "execution_count": null,
      "outputs": [
        {
          "output_type": "stream",
          "name": "stdout",
          "text": [
            "employment_type: ['FT' 'CT' 'PT' 'FL']\n"
          ]
        }
      ]
    },
    {
      "cell_type": "markdown",
      "source": [
        "FT: Full time\\\n",
        "CT: Contract\\\n",
        "PT: Part Time\\\n",
        "FL: Freelance"
      ],
      "metadata": {
        "id": "6YuZ_INd6fzE"
      }
    },
    {
      "cell_type": "code",
      "source": [
        "print('job_title:',df['job_title'].unique())"
      ],
      "metadata": {
        "colab": {
          "base_uri": "https://localhost:8080/"
        },
        "id": "5pWoZRwv6ssL",
        "outputId": "1fbe42f4-8f1e-45a5-c1e7-2c7424d31716"
      },
      "execution_count": null,
      "outputs": [
        {
          "output_type": "stream",
          "name": "stdout",
          "text": [
            "job_title: ['Data Scientist' 'Machine Learning Scientist' 'Big Data Engineer'\n",
            " 'Product Data Analyst' 'Machine Learning Engineer' 'Data Analyst'\n",
            " 'Lead Data Scientist' 'Business Data Analyst' 'Lead Data Engineer'\n",
            " 'Lead Data Analyst' 'Data Engineer' 'Data Science Consultant'\n",
            " 'BI Data Analyst' 'Director of Data Science' 'Research Scientist'\n",
            " 'Machine Learning Manager' 'Data Engineering Manager'\n",
            " 'Machine Learning Infrastructure Engineer' 'ML Engineer' 'AI Scientist'\n",
            " 'Computer Vision Engineer' 'Principal Data Scientist'\n",
            " 'Data Science Manager' 'Head of Data' '3D Computer Vision Researcher'\n",
            " 'Data Analytics Engineer' 'Applied Data Scientist'\n",
            " 'Marketing Data Analyst' 'Cloud Data Engineer' 'Financial Data Analyst'\n",
            " 'Computer Vision Software Engineer' 'Director of Data Engineering'\n",
            " 'Data Science Engineer' 'Principal Data Engineer'\n",
            " 'Machine Learning Developer' 'Applied Machine Learning Scientist'\n",
            " 'Data Analytics Manager' 'Head of Data Science' 'Data Specialist'\n",
            " 'Data Architect' 'Finance Data Analyst' 'Principal Data Analyst'\n",
            " 'Big Data Architect' 'Staff Data Scientist' 'Analytics Engineer'\n",
            " 'ETL Developer' 'Head of Machine Learning' 'NLP Engineer'\n",
            " 'Lead Machine Learning Engineer' 'Data Analytics Lead']\n"
          ]
        }
      ]
    },
    {
      "cell_type": "markdown",
      "source": [
        "Znajduje się tu duża liczba unikalnych nazw stanowisk. Na podstawie liczby rekordów dla każdego stanowiska zostaną wybrane te, z najmniejszą liczbą obserwacji, które zastąpie popularniejszymi nazwami."
      ],
      "metadata": {
        "id": "e1ljVvwj68bL"
      }
    },
    {
      "cell_type": "code",
      "source": [
        "df.groupby(['job_title']).size().sort_values(ascending=True) "
      ],
      "metadata": {
        "colab": {
          "base_uri": "https://localhost:8080/"
        },
        "id": "_DeE44b97ZPi",
        "outputId": "e1c172d5-077e-493d-ac5c-388e25e75d4c"
      },
      "execution_count": null,
      "outputs": [
        {
          "output_type": "execute_result",
          "data": {
            "text/plain": [
              "job_title\n",
              "3D Computer Vision Researcher                 1\n",
              "NLP Engineer                                  1\n",
              "Marketing Data Analyst                        1\n",
              "Machine Learning Manager                      1\n",
              "Lead Machine Learning Engineer                1\n",
              "Head of Machine Learning                      1\n",
              "Finance Data Analyst                          1\n",
              "Data Specialist                               1\n",
              "Data Analytics Lead                           1\n",
              "Staff Data Scientist                          1\n",
              "Big Data Architect                            1\n",
              "Director of Data Engineering                  2\n",
              "ETL Developer                                 2\n",
              "Cloud Data Engineer                           2\n",
              "Principal Data Analyst                        2\n",
              "Financial Data Analyst                        2\n",
              "Product Data Analyst                          2\n",
              "Machine Learning Infrastructure Engineer      3\n",
              "Data Science Engineer                         3\n",
              "Lead Data Scientist                           3\n",
              "Lead Data Analyst                             3\n",
              "Computer Vision Software Engineer             3\n",
              "Principal Data Engineer                       3\n",
              "Machine Learning Developer                    3\n",
              "Analytics Engineer                            4\n",
              "Data Analytics Engineer                       4\n",
              "Applied Machine Learning Scientist            4\n",
              "Head of Data Science                          4\n",
              "Applied Data Scientist                        5\n",
              "Head of Data                                  5\n",
              "Data Engineering Manager                      5\n",
              "Business Data Analyst                         5\n",
              "ML Engineer                                   6\n",
              "Computer Vision Engineer                      6\n",
              "BI Data Analyst                               6\n",
              "Lead Data Engineer                            6\n",
              "Data Science Consultant                       7\n",
              "Director of Data Science                      7\n",
              "AI Scientist                                  7\n",
              "Data Analytics Manager                        7\n",
              "Principal Data Scientist                      7\n",
              "Big Data Engineer                             8\n",
              "Machine Learning Scientist                    8\n",
              "Data Architect                               11\n",
              "Data Science Manager                         12\n",
              "Research Scientist                           16\n",
              "Machine Learning Engineer                    41\n",
              "Data Analyst                                 97\n",
              "Data Engineer                               132\n",
              "Data Scientist                              143\n",
              "dtype: int64"
            ]
          },
          "metadata": {},
          "execution_count": 1062
        }
      ]
    },
    {
      "cell_type": "code",
      "source": [
        "clean_df = df.drop(df.columns[0], axis=1)"
      ],
      "metadata": {
        "id": "z3KGDqpZS_Lb"
      },
      "execution_count": null,
      "outputs": []
    },
    {
      "cell_type": "markdown",
      "source": [
        "Nadmiarowy indeks został usunięty"
      ],
      "metadata": {
        "id": "OiV5iLOjTooC"
      }
    },
    {
      "cell_type": "code",
      "source": [
        "clean_df = clean_df.replace('3D Computer Vision Researcher', 'Computer Vision Engineer')\n",
        "clean_df = clean_df.replace('NLP Engineer', 'Machine Learning Engineer')\n",
        "clean_df = clean_df.replace('Marketing Data Analyst', 'Data Analyst')\n",
        "clean_df = clean_df.replace('Machine Learning Manager', 'Machine Learning Engineer')\n",
        "clean_df = clean_df.replace('Lead Machine Learning Engineer', 'Machine Learning Engineer')\n",
        "clean_df = clean_df.replace('Head of Machine Learning', 'Machine Learning Engineer')\n",
        "clean_df = clean_df.replace('Finance Data Analyst', 'Data Analyst')\n",
        "clean_df = clean_df.replace('Data Specialist', 'Data Analyst')\n",
        "clean_df = clean_df.replace('Data Analytics Lead', 'Data Analyst')\n",
        "clean_df = clean_df.replace('Staff Data Scientist', 'Data Scientist')\n",
        "clean_df = clean_df.replace('Big Data Architect', 'Big Data Engineer')\n",
        "clean_df = clean_df.replace('Director of Data Engineering', 'Big Data Engineer')\n",
        "clean_df = clean_df.replace('ETL Developer', 'Data Engineer')\n",
        "clean_df = clean_df.replace('Cloud Data Engineer', 'Data Engineer')\n",
        "clean_df = clean_df.replace('Principal Data Analyst', 'Data Analyst')\n",
        "clean_df = clean_df.replace('Financial Data Analyst', 'Data Analyst')\n",
        "clean_df = clean_df.replace('Product Data Analyst', 'Data Analyst')\n",
        "clean_df = clean_df.replace('Machine Learning Infrastructure Engineer', 'Machine Learning Engineer')\n",
        "clean_df = clean_df.replace('Data Science Engineer', 'Data Scientist')\n",
        "clean_df = clean_df.replace('Lead Data Scientist', 'Data Scientist')\n",
        "clean_df = clean_df.replace('Lead Data Analyst', 'Data Analyst')\n",
        "clean_df = clean_df.replace('Computer Vision Software Engineer', 'Computer Vision Engineer')\n",
        "clean_df = clean_df.replace('Principal Data Engineer', 'Data Engineer')\n",
        "clean_df = clean_df.replace('Machine Learning Developer', 'Machine Learning Engineer')\n",
        "clean_df = clean_df.replace('Analytics Engineer', 'Data Scientist')\n",
        "clean_df = clean_df.replace('Data Analytics Engineer', 'Data Scientist')\n",
        "clean_df = clean_df.replace('Applied Machine Learning Scientist', 'Machine Learning Scientist')\n",
        "clean_df = clean_df.replace('Head of Data Science', 'Data Scientist')\n",
        "clean_df = clean_df.replace('Data Engineering Manager', 'Data Engineer')\n",
        "clean_df = clean_df.replace('Applied Data Scientist', 'Data Scientist')\n",
        "clean_df = clean_df.replace('Head of Data Science', 'Data Scientist')\n",
        "clean_df = clean_df.replace('Business Data Analyst', 'Data Analyst')\n",
        "clean_df = clean_df.replace('Head of Data', 'Data Scientist')\n",
        "clean_df = clean_df.replace('BI Data Analyst', 'Data Analyst')\n",
        "clean_df = clean_df.replace('ML Engineer', 'Machine Learning Engineer')\n",
        "clean_df = clean_df.replace('Lead Data Engineer', 'Data Engineer')\n",
        "clean_df = clean_df.replace('Director of Data Science', 'Data Scientist')\n",
        "clean_df = clean_df.replace('Data Science Consultant', 'Data Scientist')\n",
        "clean_df = clean_df.replace('Principal Data Scientist', 'Data Scientist')\n",
        "clean_df = clean_df.replace('AI Scientist', 'Machine Learning Engineer')\n",
        "clean_df = clean_df.replace('Data Analytics Manager', 'Data Analyst')\n",
        "clean_df = clean_df.replace('Head of Data', 'Data Scientist')\n",
        "clean_df = clean_df.replace('Head of Data', 'Data Scientist')\n",
        "clean_df = clean_df.replace('Head of Data', 'Data Scientist')\n",
        "clean_df = clean_df.replace('Head of Data', 'Data Scientist')\n",
        "clean_df = clean_df.replace('Head of Data', 'Data Scientist')\n",
        "clean_df = clean_df.replace('Head of Data', 'Data Scientist')\n",
        "\n",
        "clean_df.groupby(['job_title']).size().sort_values(ascending=True) "
      ],
      "metadata": {
        "colab": {
          "base_uri": "https://localhost:8080/"
        },
        "id": "XrA0xHSw9a27",
        "outputId": "9062cee0-48ae-4b56-921a-e6cd522b49fa"
      },
      "execution_count": null,
      "outputs": [
        {
          "output_type": "execute_result",
          "data": {
            "text/plain": [
              "job_title\n",
              "Computer Vision Engineer       10\n",
              "Big Data Engineer              11\n",
              "Data Architect                 11\n",
              "Data Science Manager           12\n",
              "Machine Learning Scientist     12\n",
              "Research Scientist             16\n",
              "Machine Learning Engineer      64\n",
              "Data Analyst                  128\n",
              "Data Engineer                 150\n",
              "Data Scientist                193\n",
              "dtype: int64"
            ]
          },
          "metadata": {},
          "execution_count": 1064
        }
      ]
    },
    {
      "cell_type": "markdown",
      "source": [
        "Uwaga: przy uogólnianiu niestety traci na \"pełnym obrazie\". Zamiana, m.in \"Lead Data Engineer\", \"Director of Data Engineering\", \"Data Analytics Manager\" na tytuły \"szeregowego\" pracownika może w pierwszym momencie wydawać się myląca, ale należy pamiętać o kolumnie \"experience_level\". Osoba o profilu, np. analityk danych w ten sposób może się dowiedzieć jakie zarobki będzie w stanie osiągnąć, gdyby osiągnęła stanowisko dyrektora."
      ],
      "metadata": {
        "id": "T7U56L2qCP4W"
      }
    },
    {
      "cell_type": "code",
      "source": [
        "clean_df = clean_df.drop(columns=['salary', 'salary_currency'])"
      ],
      "metadata": {
        "id": "Dd01GpuKR5YD"
      },
      "execution_count": null,
      "outputs": []
    },
    {
      "cell_type": "markdown",
      "source": [
        "Istotne dla analizy pod kątem szacowania wysokości wynagrodzenia, jest to by było ono w tej samej walucie. Kwota w walucie lokalnej + kod waluty nie jest ważny w tej analizie."
      ],
      "metadata": {
        "id": "J4_mdYxDSesZ"
      }
    },
    {
      "cell_type": "code",
      "source": [
        "conditions = [\n",
        "    (clean_df['experience_level'] == 'EN'),\n",
        "    (clean_df['experience_level'] == 'MI'),\n",
        "    (clean_df['experience_level'] == 'SE'),\n",
        "    (clean_df['experience_level'] == 'EX')\n",
        "]\n",
        "values = [1, 2, 3, 4]\n",
        "\n",
        "clean_df['experience_level_no.'] = np.select(conditions, values)\n",
        "clean_df = clean_df.drop(columns=['experience_level'])"
      ],
      "metadata": {
        "id": "KWJ0_ph1Udp8"
      },
      "execution_count": null,
      "outputs": []
    },
    {
      "cell_type": "markdown",
      "source": [
        "Jaka forma kontraktu ma średnio najwyższe dochody?"
      ],
      "metadata": {
        "id": "AmYqa6TutkzO"
      }
    },
    {
      "cell_type": "code",
      "source": [
        "grouped_df = clean_df.groupby(['employment_type']).mean().reset_index().sort_values(by=['salary_in_usd'])\n",
        "fig = px.bar(grouped_df, x='employment_type', y='salary_in_usd')\n",
        "fig.show()"
      ],
      "metadata": {
        "colab": {
          "base_uri": "https://localhost:8080/",
          "height": 542
        },
        "id": "YTXcR9DYtjdl",
        "outputId": "0889ad40-033c-42da-a357-52e6e6ef9194"
      },
      "execution_count": null,
      "outputs": [
        {
          "output_type": "display_data",
          "data": {
            "text/html": [
              "<html>\n",
              "<head><meta charset=\"utf-8\" /></head>\n",
              "<body>\n",
              "    <div>            <script src=\"https://cdnjs.cloudflare.com/ajax/libs/mathjax/2.7.5/MathJax.js?config=TeX-AMS-MML_SVG\"></script><script type=\"text/javascript\">if (window.MathJax) {MathJax.Hub.Config({SVG: {font: \"STIX-Web\"}});}</script>                <script type=\"text/javascript\">window.PlotlyConfig = {MathJaxConfig: 'local'};</script>\n",
              "        <script src=\"https://cdn.plot.ly/plotly-2.8.3.min.js\"></script>                <div id=\"2ad48bf9-5e29-434b-bc69-59994b80df6a\" class=\"plotly-graph-div\" style=\"height:525px; width:100%;\"></div>            <script type=\"text/javascript\">                                    window.PLOTLYENV=window.PLOTLYENV || {};                                    if (document.getElementById(\"2ad48bf9-5e29-434b-bc69-59994b80df6a\")) {                    Plotly.newPlot(                        \"2ad48bf9-5e29-434b-bc69-59994b80df6a\",                        [{\"alignmentgroup\":\"True\",\"hovertemplate\":\"employment_type=%{x}<br>salary_in_usd=%{y}<extra></extra>\",\"legendgroup\":\"\",\"marker\":{\"color\":\"#636efa\",\"pattern\":{\"shape\":\"\"}},\"name\":\"\",\"offsetgroup\":\"\",\"orientation\":\"v\",\"showlegend\":false,\"textposition\":\"auto\",\"x\":[\"PT\",\"FL\",\"FT\",\"CT\"],\"xaxis\":\"x\",\"y\":[33070.5,48000.0,113468.0731292517,184575.0],\"yaxis\":\"y\",\"type\":\"bar\"}],                        {\"template\":{\"data\":{\"bar\":[{\"error_x\":{\"color\":\"#2a3f5f\"},\"error_y\":{\"color\":\"#2a3f5f\"},\"marker\":{\"line\":{\"color\":\"#E5ECF6\",\"width\":0.5},\"pattern\":{\"fillmode\":\"overlay\",\"size\":10,\"solidity\":0.2}},\"type\":\"bar\"}],\"barpolar\":[{\"marker\":{\"line\":{\"color\":\"#E5ECF6\",\"width\":0.5},\"pattern\":{\"fillmode\":\"overlay\",\"size\":10,\"solidity\":0.2}},\"type\":\"barpolar\"}],\"carpet\":[{\"aaxis\":{\"endlinecolor\":\"#2a3f5f\",\"gridcolor\":\"white\",\"linecolor\":\"white\",\"minorgridcolor\":\"white\",\"startlinecolor\":\"#2a3f5f\"},\"baxis\":{\"endlinecolor\":\"#2a3f5f\",\"gridcolor\":\"white\",\"linecolor\":\"white\",\"minorgridcolor\":\"white\",\"startlinecolor\":\"#2a3f5f\"},\"type\":\"carpet\"}],\"choropleth\":[{\"colorbar\":{\"outlinewidth\":0,\"ticks\":\"\"},\"type\":\"choropleth\"}],\"contour\":[{\"colorbar\":{\"outlinewidth\":0,\"ticks\":\"\"},\"colorscale\":[[0.0,\"#0d0887\"],[0.1111111111111111,\"#46039f\"],[0.2222222222222222,\"#7201a8\"],[0.3333333333333333,\"#9c179e\"],[0.4444444444444444,\"#bd3786\"],[0.5555555555555556,\"#d8576b\"],[0.6666666666666666,\"#ed7953\"],[0.7777777777777778,\"#fb9f3a\"],[0.8888888888888888,\"#fdca26\"],[1.0,\"#f0f921\"]],\"type\":\"contour\"}],\"contourcarpet\":[{\"colorbar\":{\"outlinewidth\":0,\"ticks\":\"\"},\"type\":\"contourcarpet\"}],\"heatmap\":[{\"colorbar\":{\"outlinewidth\":0,\"ticks\":\"\"},\"colorscale\":[[0.0,\"#0d0887\"],[0.1111111111111111,\"#46039f\"],[0.2222222222222222,\"#7201a8\"],[0.3333333333333333,\"#9c179e\"],[0.4444444444444444,\"#bd3786\"],[0.5555555555555556,\"#d8576b\"],[0.6666666666666666,\"#ed7953\"],[0.7777777777777778,\"#fb9f3a\"],[0.8888888888888888,\"#fdca26\"],[1.0,\"#f0f921\"]],\"type\":\"heatmap\"}],\"heatmapgl\":[{\"colorbar\":{\"outlinewidth\":0,\"ticks\":\"\"},\"colorscale\":[[0.0,\"#0d0887\"],[0.1111111111111111,\"#46039f\"],[0.2222222222222222,\"#7201a8\"],[0.3333333333333333,\"#9c179e\"],[0.4444444444444444,\"#bd3786\"],[0.5555555555555556,\"#d8576b\"],[0.6666666666666666,\"#ed7953\"],[0.7777777777777778,\"#fb9f3a\"],[0.8888888888888888,\"#fdca26\"],[1.0,\"#f0f921\"]],\"type\":\"heatmapgl\"}],\"histogram\":[{\"marker\":{\"pattern\":{\"fillmode\":\"overlay\",\"size\":10,\"solidity\":0.2}},\"type\":\"histogram\"}],\"histogram2d\":[{\"colorbar\":{\"outlinewidth\":0,\"ticks\":\"\"},\"colorscale\":[[0.0,\"#0d0887\"],[0.1111111111111111,\"#46039f\"],[0.2222222222222222,\"#7201a8\"],[0.3333333333333333,\"#9c179e\"],[0.4444444444444444,\"#bd3786\"],[0.5555555555555556,\"#d8576b\"],[0.6666666666666666,\"#ed7953\"],[0.7777777777777778,\"#fb9f3a\"],[0.8888888888888888,\"#fdca26\"],[1.0,\"#f0f921\"]],\"type\":\"histogram2d\"}],\"histogram2dcontour\":[{\"colorbar\":{\"outlinewidth\":0,\"ticks\":\"\"},\"colorscale\":[[0.0,\"#0d0887\"],[0.1111111111111111,\"#46039f\"],[0.2222222222222222,\"#7201a8\"],[0.3333333333333333,\"#9c179e\"],[0.4444444444444444,\"#bd3786\"],[0.5555555555555556,\"#d8576b\"],[0.6666666666666666,\"#ed7953\"],[0.7777777777777778,\"#fb9f3a\"],[0.8888888888888888,\"#fdca26\"],[1.0,\"#f0f921\"]],\"type\":\"histogram2dcontour\"}],\"mesh3d\":[{\"colorbar\":{\"outlinewidth\":0,\"ticks\":\"\"},\"type\":\"mesh3d\"}],\"parcoords\":[{\"line\":{\"colorbar\":{\"outlinewidth\":0,\"ticks\":\"\"}},\"type\":\"parcoords\"}],\"pie\":[{\"automargin\":true,\"type\":\"pie\"}],\"scatter\":[{\"marker\":{\"colorbar\":{\"outlinewidth\":0,\"ticks\":\"\"}},\"type\":\"scatter\"}],\"scatter3d\":[{\"line\":{\"colorbar\":{\"outlinewidth\":0,\"ticks\":\"\"}},\"marker\":{\"colorbar\":{\"outlinewidth\":0,\"ticks\":\"\"}},\"type\":\"scatter3d\"}],\"scattercarpet\":[{\"marker\":{\"colorbar\":{\"outlinewidth\":0,\"ticks\":\"\"}},\"type\":\"scattercarpet\"}],\"scattergeo\":[{\"marker\":{\"colorbar\":{\"outlinewidth\":0,\"ticks\":\"\"}},\"type\":\"scattergeo\"}],\"scattergl\":[{\"marker\":{\"colorbar\":{\"outlinewidth\":0,\"ticks\":\"\"}},\"type\":\"scattergl\"}],\"scattermapbox\":[{\"marker\":{\"colorbar\":{\"outlinewidth\":0,\"ticks\":\"\"}},\"type\":\"scattermapbox\"}],\"scatterpolar\":[{\"marker\":{\"colorbar\":{\"outlinewidth\":0,\"ticks\":\"\"}},\"type\":\"scatterpolar\"}],\"scatterpolargl\":[{\"marker\":{\"colorbar\":{\"outlinewidth\":0,\"ticks\":\"\"}},\"type\":\"scatterpolargl\"}],\"scatterternary\":[{\"marker\":{\"colorbar\":{\"outlinewidth\":0,\"ticks\":\"\"}},\"type\":\"scatterternary\"}],\"surface\":[{\"colorbar\":{\"outlinewidth\":0,\"ticks\":\"\"},\"colorscale\":[[0.0,\"#0d0887\"],[0.1111111111111111,\"#46039f\"],[0.2222222222222222,\"#7201a8\"],[0.3333333333333333,\"#9c179e\"],[0.4444444444444444,\"#bd3786\"],[0.5555555555555556,\"#d8576b\"],[0.6666666666666666,\"#ed7953\"],[0.7777777777777778,\"#fb9f3a\"],[0.8888888888888888,\"#fdca26\"],[1.0,\"#f0f921\"]],\"type\":\"surface\"}],\"table\":[{\"cells\":{\"fill\":{\"color\":\"#EBF0F8\"},\"line\":{\"color\":\"white\"}},\"header\":{\"fill\":{\"color\":\"#C8D4E3\"},\"line\":{\"color\":\"white\"}},\"type\":\"table\"}]},\"layout\":{\"annotationdefaults\":{\"arrowcolor\":\"#2a3f5f\",\"arrowhead\":0,\"arrowwidth\":1},\"autotypenumbers\":\"strict\",\"coloraxis\":{\"colorbar\":{\"outlinewidth\":0,\"ticks\":\"\"}},\"colorscale\":{\"diverging\":[[0,\"#8e0152\"],[0.1,\"#c51b7d\"],[0.2,\"#de77ae\"],[0.3,\"#f1b6da\"],[0.4,\"#fde0ef\"],[0.5,\"#f7f7f7\"],[0.6,\"#e6f5d0\"],[0.7,\"#b8e186\"],[0.8,\"#7fbc41\"],[0.9,\"#4d9221\"],[1,\"#276419\"]],\"sequential\":[[0.0,\"#0d0887\"],[0.1111111111111111,\"#46039f\"],[0.2222222222222222,\"#7201a8\"],[0.3333333333333333,\"#9c179e\"],[0.4444444444444444,\"#bd3786\"],[0.5555555555555556,\"#d8576b\"],[0.6666666666666666,\"#ed7953\"],[0.7777777777777778,\"#fb9f3a\"],[0.8888888888888888,\"#fdca26\"],[1.0,\"#f0f921\"]],\"sequentialminus\":[[0.0,\"#0d0887\"],[0.1111111111111111,\"#46039f\"],[0.2222222222222222,\"#7201a8\"],[0.3333333333333333,\"#9c179e\"],[0.4444444444444444,\"#bd3786\"],[0.5555555555555556,\"#d8576b\"],[0.6666666666666666,\"#ed7953\"],[0.7777777777777778,\"#fb9f3a\"],[0.8888888888888888,\"#fdca26\"],[1.0,\"#f0f921\"]]},\"colorway\":[\"#636efa\",\"#EF553B\",\"#00cc96\",\"#ab63fa\",\"#FFA15A\",\"#19d3f3\",\"#FF6692\",\"#B6E880\",\"#FF97FF\",\"#FECB52\"],\"font\":{\"color\":\"#2a3f5f\"},\"geo\":{\"bgcolor\":\"white\",\"lakecolor\":\"white\",\"landcolor\":\"#E5ECF6\",\"showlakes\":true,\"showland\":true,\"subunitcolor\":\"white\"},\"hoverlabel\":{\"align\":\"left\"},\"hovermode\":\"closest\",\"mapbox\":{\"style\":\"light\"},\"paper_bgcolor\":\"white\",\"plot_bgcolor\":\"#E5ECF6\",\"polar\":{\"angularaxis\":{\"gridcolor\":\"white\",\"linecolor\":\"white\",\"ticks\":\"\"},\"bgcolor\":\"#E5ECF6\",\"radialaxis\":{\"gridcolor\":\"white\",\"linecolor\":\"white\",\"ticks\":\"\"}},\"scene\":{\"xaxis\":{\"backgroundcolor\":\"#E5ECF6\",\"gridcolor\":\"white\",\"gridwidth\":2,\"linecolor\":\"white\",\"showbackground\":true,\"ticks\":\"\",\"zerolinecolor\":\"white\"},\"yaxis\":{\"backgroundcolor\":\"#E5ECF6\",\"gridcolor\":\"white\",\"gridwidth\":2,\"linecolor\":\"white\",\"showbackground\":true,\"ticks\":\"\",\"zerolinecolor\":\"white\"},\"zaxis\":{\"backgroundcolor\":\"#E5ECF6\",\"gridcolor\":\"white\",\"gridwidth\":2,\"linecolor\":\"white\",\"showbackground\":true,\"ticks\":\"\",\"zerolinecolor\":\"white\"}},\"shapedefaults\":{\"line\":{\"color\":\"#2a3f5f\"}},\"ternary\":{\"aaxis\":{\"gridcolor\":\"white\",\"linecolor\":\"white\",\"ticks\":\"\"},\"baxis\":{\"gridcolor\":\"white\",\"linecolor\":\"white\",\"ticks\":\"\"},\"bgcolor\":\"#E5ECF6\",\"caxis\":{\"gridcolor\":\"white\",\"linecolor\":\"white\",\"ticks\":\"\"}},\"title\":{\"x\":0.05},\"xaxis\":{\"automargin\":true,\"gridcolor\":\"white\",\"linecolor\":\"white\",\"ticks\":\"\",\"title\":{\"standoff\":15},\"zerolinecolor\":\"white\",\"zerolinewidth\":2},\"yaxis\":{\"automargin\":true,\"gridcolor\":\"white\",\"linecolor\":\"white\",\"ticks\":\"\",\"title\":{\"standoff\":15},\"zerolinecolor\":\"white\",\"zerolinewidth\":2}}},\"xaxis\":{\"anchor\":\"y\",\"domain\":[0.0,1.0],\"title\":{\"text\":\"employment_type\"}},\"yaxis\":{\"anchor\":\"x\",\"domain\":[0.0,1.0],\"title\":{\"text\":\"salary_in_usd\"}},\"legend\":{\"tracegroupgap\":0},\"margin\":{\"t\":60},\"barmode\":\"relative\"},                        {\"responsive\": true}                    ).then(function(){\n",
              "                            \n",
              "var gd = document.getElementById('2ad48bf9-5e29-434b-bc69-59994b80df6a');\n",
              "var x = new MutationObserver(function (mutations, observer) {{\n",
              "        var display = window.getComputedStyle(gd).display;\n",
              "        if (!display || display === 'none') {{\n",
              "            console.log([gd, 'removed!']);\n",
              "            Plotly.purge(gd);\n",
              "            observer.disconnect();\n",
              "        }}\n",
              "}});\n",
              "\n",
              "// Listen for the removal of the full notebook cells\n",
              "var notebookContainer = gd.closest('#notebook-container');\n",
              "if (notebookContainer) {{\n",
              "    x.observe(notebookContainer, {childList: true});\n",
              "}}\n",
              "\n",
              "// Listen for the clearing of the current output cell\n",
              "var outputEl = gd.closest('.output');\n",
              "if (outputEl) {{\n",
              "    x.observe(outputEl, {childList: true});\n",
              "}}\n",
              "\n",
              "                        })                };                            </script>        </div>\n",
              "</body>\n",
              "</html>"
            ]
          },
          "metadata": {}
        }
      ]
    },
    {
      "cell_type": "code",
      "source": [
        "conditions = [\n",
        "    (clean_df['employment_type'] == 'PT'),\n",
        "    (clean_df['employment_type'] == 'FL'),\n",
        "    (clean_df['employment_type'] == 'FT'),\n",
        "    (clean_df['employment_type'] == 'CT')\n",
        "]\n",
        "values = [1, 2, 3, 4]\n",
        "\n",
        "clean_df['employment_type_no.'] = np.select(conditions, values)\n",
        "clean_df = clean_df.drop(columns=['employment_type'])"
      ],
      "metadata": {
        "id": "03m7XxoDZwEz"
      },
      "execution_count": null,
      "outputs": []
    },
    {
      "cell_type": "code",
      "source": [
        "conditions = [\n",
        "    (clean_df['company_size'] == 'S'),\n",
        "    (clean_df['company_size'] == 'M'),\n",
        "    (clean_df['company_size'] == 'L')\n",
        "]\n",
        "values = [1, 2, 3]\n",
        "\n",
        "clean_df['company_size_no.'] = np.select(conditions, values)\n",
        "clean_df = clean_df.drop(columns=['company_size'])\n",
        "clean_df"
      ],
      "metadata": {
        "colab": {
          "base_uri": "https://localhost:8080/",
          "height": 424
        },
        "id": "D6HIn-zXaJqx",
        "outputId": "bf7d7992-b404-442b-a874-70885b442b28"
      },
      "execution_count": null,
      "outputs": [
        {
          "output_type": "execute_result",
          "data": {
            "text/plain": [
              "     work_year                   job_title  salary_in_usd employee_residence  \\\n",
              "0         2020              Data Scientist          79833                 DE   \n",
              "1         2020  Machine Learning Scientist         260000                 JP   \n",
              "2         2020           Big Data Engineer         109024                 GB   \n",
              "3         2020                Data Analyst          20000                 HN   \n",
              "4         2020   Machine Learning Engineer         150000                 US   \n",
              "..         ...                         ...            ...                ...   \n",
              "602       2022               Data Engineer         154000                 US   \n",
              "603       2022               Data Engineer         126000                 US   \n",
              "604       2022                Data Analyst         129000                 US   \n",
              "605       2022                Data Analyst         150000                 US   \n",
              "606       2022   Machine Learning Engineer         200000                 IN   \n",
              "\n",
              "     remote_ratio company_location  experience_level_no.  employment_type_no.  \\\n",
              "0               0               DE                     2                    3   \n",
              "1               0               JP                     3                    3   \n",
              "2              50               GB                     3                    3   \n",
              "3               0               HN                     2                    3   \n",
              "4              50               US                     3                    3   \n",
              "..            ...              ...                   ...                  ...   \n",
              "602           100               US                     3                    3   \n",
              "603           100               US                     3                    3   \n",
              "604             0               US                     3                    3   \n",
              "605           100               US                     3                    3   \n",
              "606           100               US                     2                    3   \n",
              "\n",
              "     company_size_no.  \n",
              "0                   3  \n",
              "1                   1  \n",
              "2                   2  \n",
              "3                   1  \n",
              "4                   3  \n",
              "..                ...  \n",
              "602                 2  \n",
              "603                 2  \n",
              "604                 2  \n",
              "605                 2  \n",
              "606                 3  \n",
              "\n",
              "[607 rows x 9 columns]"
            ],
            "text/html": [
              "\n",
              "  <div id=\"df-4179df41-84c4-41ba-8871-835a80fc168e\">\n",
              "    <div class=\"colab-df-container\">\n",
              "      <div>\n",
              "<style scoped>\n",
              "    .dataframe tbody tr th:only-of-type {\n",
              "        vertical-align: middle;\n",
              "    }\n",
              "\n",
              "    .dataframe tbody tr th {\n",
              "        vertical-align: top;\n",
              "    }\n",
              "\n",
              "    .dataframe thead th {\n",
              "        text-align: right;\n",
              "    }\n",
              "</style>\n",
              "<table border=\"1\" class=\"dataframe\">\n",
              "  <thead>\n",
              "    <tr style=\"text-align: right;\">\n",
              "      <th></th>\n",
              "      <th>work_year</th>\n",
              "      <th>job_title</th>\n",
              "      <th>salary_in_usd</th>\n",
              "      <th>employee_residence</th>\n",
              "      <th>remote_ratio</th>\n",
              "      <th>company_location</th>\n",
              "      <th>experience_level_no.</th>\n",
              "      <th>employment_type_no.</th>\n",
              "      <th>company_size_no.</th>\n",
              "    </tr>\n",
              "  </thead>\n",
              "  <tbody>\n",
              "    <tr>\n",
              "      <th>0</th>\n",
              "      <td>2020</td>\n",
              "      <td>Data Scientist</td>\n",
              "      <td>79833</td>\n",
              "      <td>DE</td>\n",
              "      <td>0</td>\n",
              "      <td>DE</td>\n",
              "      <td>2</td>\n",
              "      <td>3</td>\n",
              "      <td>3</td>\n",
              "    </tr>\n",
              "    <tr>\n",
              "      <th>1</th>\n",
              "      <td>2020</td>\n",
              "      <td>Machine Learning Scientist</td>\n",
              "      <td>260000</td>\n",
              "      <td>JP</td>\n",
              "      <td>0</td>\n",
              "      <td>JP</td>\n",
              "      <td>3</td>\n",
              "      <td>3</td>\n",
              "      <td>1</td>\n",
              "    </tr>\n",
              "    <tr>\n",
              "      <th>2</th>\n",
              "      <td>2020</td>\n",
              "      <td>Big Data Engineer</td>\n",
              "      <td>109024</td>\n",
              "      <td>GB</td>\n",
              "      <td>50</td>\n",
              "      <td>GB</td>\n",
              "      <td>3</td>\n",
              "      <td>3</td>\n",
              "      <td>2</td>\n",
              "    </tr>\n",
              "    <tr>\n",
              "      <th>3</th>\n",
              "      <td>2020</td>\n",
              "      <td>Data Analyst</td>\n",
              "      <td>20000</td>\n",
              "      <td>HN</td>\n",
              "      <td>0</td>\n",
              "      <td>HN</td>\n",
              "      <td>2</td>\n",
              "      <td>3</td>\n",
              "      <td>1</td>\n",
              "    </tr>\n",
              "    <tr>\n",
              "      <th>4</th>\n",
              "      <td>2020</td>\n",
              "      <td>Machine Learning Engineer</td>\n",
              "      <td>150000</td>\n",
              "      <td>US</td>\n",
              "      <td>50</td>\n",
              "      <td>US</td>\n",
              "      <td>3</td>\n",
              "      <td>3</td>\n",
              "      <td>3</td>\n",
              "    </tr>\n",
              "    <tr>\n",
              "      <th>...</th>\n",
              "      <td>...</td>\n",
              "      <td>...</td>\n",
              "      <td>...</td>\n",
              "      <td>...</td>\n",
              "      <td>...</td>\n",
              "      <td>...</td>\n",
              "      <td>...</td>\n",
              "      <td>...</td>\n",
              "      <td>...</td>\n",
              "    </tr>\n",
              "    <tr>\n",
              "      <th>602</th>\n",
              "      <td>2022</td>\n",
              "      <td>Data Engineer</td>\n",
              "      <td>154000</td>\n",
              "      <td>US</td>\n",
              "      <td>100</td>\n",
              "      <td>US</td>\n",
              "      <td>3</td>\n",
              "      <td>3</td>\n",
              "      <td>2</td>\n",
              "    </tr>\n",
              "    <tr>\n",
              "      <th>603</th>\n",
              "      <td>2022</td>\n",
              "      <td>Data Engineer</td>\n",
              "      <td>126000</td>\n",
              "      <td>US</td>\n",
              "      <td>100</td>\n",
              "      <td>US</td>\n",
              "      <td>3</td>\n",
              "      <td>3</td>\n",
              "      <td>2</td>\n",
              "    </tr>\n",
              "    <tr>\n",
              "      <th>604</th>\n",
              "      <td>2022</td>\n",
              "      <td>Data Analyst</td>\n",
              "      <td>129000</td>\n",
              "      <td>US</td>\n",
              "      <td>0</td>\n",
              "      <td>US</td>\n",
              "      <td>3</td>\n",
              "      <td>3</td>\n",
              "      <td>2</td>\n",
              "    </tr>\n",
              "    <tr>\n",
              "      <th>605</th>\n",
              "      <td>2022</td>\n",
              "      <td>Data Analyst</td>\n",
              "      <td>150000</td>\n",
              "      <td>US</td>\n",
              "      <td>100</td>\n",
              "      <td>US</td>\n",
              "      <td>3</td>\n",
              "      <td>3</td>\n",
              "      <td>2</td>\n",
              "    </tr>\n",
              "    <tr>\n",
              "      <th>606</th>\n",
              "      <td>2022</td>\n",
              "      <td>Machine Learning Engineer</td>\n",
              "      <td>200000</td>\n",
              "      <td>IN</td>\n",
              "      <td>100</td>\n",
              "      <td>US</td>\n",
              "      <td>2</td>\n",
              "      <td>3</td>\n",
              "      <td>3</td>\n",
              "    </tr>\n",
              "  </tbody>\n",
              "</table>\n",
              "<p>607 rows × 9 columns</p>\n",
              "</div>\n",
              "      <button class=\"colab-df-convert\" onclick=\"convertToInteractive('df-4179df41-84c4-41ba-8871-835a80fc168e')\"\n",
              "              title=\"Convert this dataframe to an interactive table.\"\n",
              "              style=\"display:none;\">\n",
              "        \n",
              "  <svg xmlns=\"http://www.w3.org/2000/svg\" height=\"24px\"viewBox=\"0 0 24 24\"\n",
              "       width=\"24px\">\n",
              "    <path d=\"M0 0h24v24H0V0z\" fill=\"none\"/>\n",
              "    <path d=\"M18.56 5.44l.94 2.06.94-2.06 2.06-.94-2.06-.94-.94-2.06-.94 2.06-2.06.94zm-11 1L8.5 8.5l.94-2.06 2.06-.94-2.06-.94L8.5 2.5l-.94 2.06-2.06.94zm10 10l.94 2.06.94-2.06 2.06-.94-2.06-.94-.94-2.06-.94 2.06-2.06.94z\"/><path d=\"M17.41 7.96l-1.37-1.37c-.4-.4-.92-.59-1.43-.59-.52 0-1.04.2-1.43.59L10.3 9.45l-7.72 7.72c-.78.78-.78 2.05 0 2.83L4 21.41c.39.39.9.59 1.41.59.51 0 1.02-.2 1.41-.59l7.78-7.78 2.81-2.81c.8-.78.8-2.07 0-2.86zM5.41 20L4 18.59l7.72-7.72 1.47 1.35L5.41 20z\"/>\n",
              "  </svg>\n",
              "      </button>\n",
              "      \n",
              "  <style>\n",
              "    .colab-df-container {\n",
              "      display:flex;\n",
              "      flex-wrap:wrap;\n",
              "      gap: 12px;\n",
              "    }\n",
              "\n",
              "    .colab-df-convert {\n",
              "      background-color: #E8F0FE;\n",
              "      border: none;\n",
              "      border-radius: 50%;\n",
              "      cursor: pointer;\n",
              "      display: none;\n",
              "      fill: #1967D2;\n",
              "      height: 32px;\n",
              "      padding: 0 0 0 0;\n",
              "      width: 32px;\n",
              "    }\n",
              "\n",
              "    .colab-df-convert:hover {\n",
              "      background-color: #E2EBFA;\n",
              "      box-shadow: 0px 1px 2px rgba(60, 64, 67, 0.3), 0px 1px 3px 1px rgba(60, 64, 67, 0.15);\n",
              "      fill: #174EA6;\n",
              "    }\n",
              "\n",
              "    [theme=dark] .colab-df-convert {\n",
              "      background-color: #3B4455;\n",
              "      fill: #D2E3FC;\n",
              "    }\n",
              "\n",
              "    [theme=dark] .colab-df-convert:hover {\n",
              "      background-color: #434B5C;\n",
              "      box-shadow: 0px 1px 3px 1px rgba(0, 0, 0, 0.15);\n",
              "      filter: drop-shadow(0px 1px 2px rgba(0, 0, 0, 0.3));\n",
              "      fill: #FFFFFF;\n",
              "    }\n",
              "  </style>\n",
              "\n",
              "      <script>\n",
              "        const buttonEl =\n",
              "          document.querySelector('#df-4179df41-84c4-41ba-8871-835a80fc168e button.colab-df-convert');\n",
              "        buttonEl.style.display =\n",
              "          google.colab.kernel.accessAllowed ? 'block' : 'none';\n",
              "\n",
              "        async function convertToInteractive(key) {\n",
              "          const element = document.querySelector('#df-4179df41-84c4-41ba-8871-835a80fc168e');\n",
              "          const dataTable =\n",
              "            await google.colab.kernel.invokeFunction('convertToInteractive',\n",
              "                                                     [key], {});\n",
              "          if (!dataTable) return;\n",
              "\n",
              "          const docLinkHtml = 'Like what you see? Visit the ' +\n",
              "            '<a target=\"_blank\" href=https://colab.research.google.com/notebooks/data_table.ipynb>data table notebook</a>'\n",
              "            + ' to learn more about interactive tables.';\n",
              "          element.innerHTML = '';\n",
              "          dataTable['output_type'] = 'display_data';\n",
              "          await google.colab.output.renderOutput(dataTable, element);\n",
              "          const docLink = document.createElement('div');\n",
              "          docLink.innerHTML = docLinkHtml;\n",
              "          element.appendChild(docLink);\n",
              "        }\n",
              "      </script>\n",
              "    </div>\n",
              "  </div>\n",
              "  "
            ]
          },
          "metadata": {},
          "execution_count": 1069
        }
      ]
    },
    {
      "cell_type": "code",
      "source": [
        "grouped_df = clean_df.groupby(['company_location']).mean().reset_index().sort_values(by=['salary_in_usd'])\n",
        "fig = px.bar(grouped_df, x='company_location', y='salary_in_usd')\n",
        "fig.show()"
      ],
      "metadata": {
        "colab": {
          "base_uri": "https://localhost:8080/",
          "height": 542
        },
        "id": "ESlkrKRZah9c",
        "outputId": "59779701-17bc-41f1-c138-83333c718a62"
      },
      "execution_count": null,
      "outputs": [
        {
          "output_type": "display_data",
          "data": {
            "text/html": [
              "<html>\n",
              "<head><meta charset=\"utf-8\" /></head>\n",
              "<body>\n",
              "    <div>            <script src=\"https://cdnjs.cloudflare.com/ajax/libs/mathjax/2.7.5/MathJax.js?config=TeX-AMS-MML_SVG\"></script><script type=\"text/javascript\">if (window.MathJax) {MathJax.Hub.Config({SVG: {font: \"STIX-Web\"}});}</script>                <script type=\"text/javascript\">window.PlotlyConfig = {MathJaxConfig: 'local'};</script>\n",
              "        <script src=\"https://cdn.plot.ly/plotly-2.8.3.min.js\"></script>                <div id=\"e052ff59-3420-40eb-a772-71157368daea\" class=\"plotly-graph-div\" style=\"height:525px; width:100%;\"></div>            <script type=\"text/javascript\">                                    window.PLOTLYENV=window.PLOTLYENV || {};                                    if (document.getElementById(\"e052ff59-3420-40eb-a772-71157368daea\")) {                    Plotly.newPlot(                        \"e052ff59-3420-40eb-a772-71157368daea\",                        [{\"alignmentgroup\":\"True\",\"hovertemplate\":\"company_location=%{x}<br>salary_in_usd=%{y}<extra></extra>\",\"legendgroup\":\"\",\"marker\":{\"color\":\"#636efa\",\"pattern\":{\"shape\":\"\"}},\"name\":\"\",\"offsetgroup\":\"\",\"orientation\":\"v\",\"showlegend\":false,\"textposition\":\"auto\",\"x\":[\"VN\",\"IR\",\"KE\",\"PK\",\"UA\",\"MD\",\"AS\",\"BR\",\"HN\",\"TR\",\"CO\",\"MT\",\"IN\",\"NG\",\"MX\",\"EE\",\"HU\",\"IT\",\"MY\",\"CL\",\"LU\",\"HR\",\"PT\",\"CZ\",\"GR\",\"ES\",\"DK\",\"NL\",\"RO\",\"SI\",\"FR\",\"CH\",\"PL\",\"IE\",\"CN\",\"AT\",\"GB\",\"DE\",\"BE\",\"SG\",\"CA\",\"AE\",\"IQ\",\"DZ\",\"AU\",\"JP\",\"IL\",\"NZ\",\"US\",\"RU\"],\"xaxis\":\"x\",\"y\":[4000.0,4000.0,9272.0,13333.333333333334,13400.0,18000.0,18053.0,18602.666666666668,20000.0,20096.666666666668,21844.0,28369.0,28581.75,30000.0,32123.333333333332,32974.0,35735.0,36366.5,40000.0,40038.0,43942.666666666664,45618.0,47793.75,50937.0,52293.09090909091,53060.142857142855,54386.333333333336,54945.75,60000.0,63831.0,63970.666666666664,64114.0,66082.5,71444.0,71665.5,72920.75,81583.0425531915,81887.21428571429,85699.0,89294.0,99823.73333333334,100000.0,100000.0,100000.0,108042.66666666667,114127.33333333333,119059.0,125000.0,144055.26197183097,157500.0],\"yaxis\":\"y\",\"type\":\"bar\"}],                        {\"template\":{\"data\":{\"bar\":[{\"error_x\":{\"color\":\"#2a3f5f\"},\"error_y\":{\"color\":\"#2a3f5f\"},\"marker\":{\"line\":{\"color\":\"#E5ECF6\",\"width\":0.5},\"pattern\":{\"fillmode\":\"overlay\",\"size\":10,\"solidity\":0.2}},\"type\":\"bar\"}],\"barpolar\":[{\"marker\":{\"line\":{\"color\":\"#E5ECF6\",\"width\":0.5},\"pattern\":{\"fillmode\":\"overlay\",\"size\":10,\"solidity\":0.2}},\"type\":\"barpolar\"}],\"carpet\":[{\"aaxis\":{\"endlinecolor\":\"#2a3f5f\",\"gridcolor\":\"white\",\"linecolor\":\"white\",\"minorgridcolor\":\"white\",\"startlinecolor\":\"#2a3f5f\"},\"baxis\":{\"endlinecolor\":\"#2a3f5f\",\"gridcolor\":\"white\",\"linecolor\":\"white\",\"minorgridcolor\":\"white\",\"startlinecolor\":\"#2a3f5f\"},\"type\":\"carpet\"}],\"choropleth\":[{\"colorbar\":{\"outlinewidth\":0,\"ticks\":\"\"},\"type\":\"choropleth\"}],\"contour\":[{\"colorbar\":{\"outlinewidth\":0,\"ticks\":\"\"},\"colorscale\":[[0.0,\"#0d0887\"],[0.1111111111111111,\"#46039f\"],[0.2222222222222222,\"#7201a8\"],[0.3333333333333333,\"#9c179e\"],[0.4444444444444444,\"#bd3786\"],[0.5555555555555556,\"#d8576b\"],[0.6666666666666666,\"#ed7953\"],[0.7777777777777778,\"#fb9f3a\"],[0.8888888888888888,\"#fdca26\"],[1.0,\"#f0f921\"]],\"type\":\"contour\"}],\"contourcarpet\":[{\"colorbar\":{\"outlinewidth\":0,\"ticks\":\"\"},\"type\":\"contourcarpet\"}],\"heatmap\":[{\"colorbar\":{\"outlinewidth\":0,\"ticks\":\"\"},\"colorscale\":[[0.0,\"#0d0887\"],[0.1111111111111111,\"#46039f\"],[0.2222222222222222,\"#7201a8\"],[0.3333333333333333,\"#9c179e\"],[0.4444444444444444,\"#bd3786\"],[0.5555555555555556,\"#d8576b\"],[0.6666666666666666,\"#ed7953\"],[0.7777777777777778,\"#fb9f3a\"],[0.8888888888888888,\"#fdca26\"],[1.0,\"#f0f921\"]],\"type\":\"heatmap\"}],\"heatmapgl\":[{\"colorbar\":{\"outlinewidth\":0,\"ticks\":\"\"},\"colorscale\":[[0.0,\"#0d0887\"],[0.1111111111111111,\"#46039f\"],[0.2222222222222222,\"#7201a8\"],[0.3333333333333333,\"#9c179e\"],[0.4444444444444444,\"#bd3786\"],[0.5555555555555556,\"#d8576b\"],[0.6666666666666666,\"#ed7953\"],[0.7777777777777778,\"#fb9f3a\"],[0.8888888888888888,\"#fdca26\"],[1.0,\"#f0f921\"]],\"type\":\"heatmapgl\"}],\"histogram\":[{\"marker\":{\"pattern\":{\"fillmode\":\"overlay\",\"size\":10,\"solidity\":0.2}},\"type\":\"histogram\"}],\"histogram2d\":[{\"colorbar\":{\"outlinewidth\":0,\"ticks\":\"\"},\"colorscale\":[[0.0,\"#0d0887\"],[0.1111111111111111,\"#46039f\"],[0.2222222222222222,\"#7201a8\"],[0.3333333333333333,\"#9c179e\"],[0.4444444444444444,\"#bd3786\"],[0.5555555555555556,\"#d8576b\"],[0.6666666666666666,\"#ed7953\"],[0.7777777777777778,\"#fb9f3a\"],[0.8888888888888888,\"#fdca26\"],[1.0,\"#f0f921\"]],\"type\":\"histogram2d\"}],\"histogram2dcontour\":[{\"colorbar\":{\"outlinewidth\":0,\"ticks\":\"\"},\"colorscale\":[[0.0,\"#0d0887\"],[0.1111111111111111,\"#46039f\"],[0.2222222222222222,\"#7201a8\"],[0.3333333333333333,\"#9c179e\"],[0.4444444444444444,\"#bd3786\"],[0.5555555555555556,\"#d8576b\"],[0.6666666666666666,\"#ed7953\"],[0.7777777777777778,\"#fb9f3a\"],[0.8888888888888888,\"#fdca26\"],[1.0,\"#f0f921\"]],\"type\":\"histogram2dcontour\"}],\"mesh3d\":[{\"colorbar\":{\"outlinewidth\":0,\"ticks\":\"\"},\"type\":\"mesh3d\"}],\"parcoords\":[{\"line\":{\"colorbar\":{\"outlinewidth\":0,\"ticks\":\"\"}},\"type\":\"parcoords\"}],\"pie\":[{\"automargin\":true,\"type\":\"pie\"}],\"scatter\":[{\"marker\":{\"colorbar\":{\"outlinewidth\":0,\"ticks\":\"\"}},\"type\":\"scatter\"}],\"scatter3d\":[{\"line\":{\"colorbar\":{\"outlinewidth\":0,\"ticks\":\"\"}},\"marker\":{\"colorbar\":{\"outlinewidth\":0,\"ticks\":\"\"}},\"type\":\"scatter3d\"}],\"scattercarpet\":[{\"marker\":{\"colorbar\":{\"outlinewidth\":0,\"ticks\":\"\"}},\"type\":\"scattercarpet\"}],\"scattergeo\":[{\"marker\":{\"colorbar\":{\"outlinewidth\":0,\"ticks\":\"\"}},\"type\":\"scattergeo\"}],\"scattergl\":[{\"marker\":{\"colorbar\":{\"outlinewidth\":0,\"ticks\":\"\"}},\"type\":\"scattergl\"}],\"scattermapbox\":[{\"marker\":{\"colorbar\":{\"outlinewidth\":0,\"ticks\":\"\"}},\"type\":\"scattermapbox\"}],\"scatterpolar\":[{\"marker\":{\"colorbar\":{\"outlinewidth\":0,\"ticks\":\"\"}},\"type\":\"scatterpolar\"}],\"scatterpolargl\":[{\"marker\":{\"colorbar\":{\"outlinewidth\":0,\"ticks\":\"\"}},\"type\":\"scatterpolargl\"}],\"scatterternary\":[{\"marker\":{\"colorbar\":{\"outlinewidth\":0,\"ticks\":\"\"}},\"type\":\"scatterternary\"}],\"surface\":[{\"colorbar\":{\"outlinewidth\":0,\"ticks\":\"\"},\"colorscale\":[[0.0,\"#0d0887\"],[0.1111111111111111,\"#46039f\"],[0.2222222222222222,\"#7201a8\"],[0.3333333333333333,\"#9c179e\"],[0.4444444444444444,\"#bd3786\"],[0.5555555555555556,\"#d8576b\"],[0.6666666666666666,\"#ed7953\"],[0.7777777777777778,\"#fb9f3a\"],[0.8888888888888888,\"#fdca26\"],[1.0,\"#f0f921\"]],\"type\":\"surface\"}],\"table\":[{\"cells\":{\"fill\":{\"color\":\"#EBF0F8\"},\"line\":{\"color\":\"white\"}},\"header\":{\"fill\":{\"color\":\"#C8D4E3\"},\"line\":{\"color\":\"white\"}},\"type\":\"table\"}]},\"layout\":{\"annotationdefaults\":{\"arrowcolor\":\"#2a3f5f\",\"arrowhead\":0,\"arrowwidth\":1},\"autotypenumbers\":\"strict\",\"coloraxis\":{\"colorbar\":{\"outlinewidth\":0,\"ticks\":\"\"}},\"colorscale\":{\"diverging\":[[0,\"#8e0152\"],[0.1,\"#c51b7d\"],[0.2,\"#de77ae\"],[0.3,\"#f1b6da\"],[0.4,\"#fde0ef\"],[0.5,\"#f7f7f7\"],[0.6,\"#e6f5d0\"],[0.7,\"#b8e186\"],[0.8,\"#7fbc41\"],[0.9,\"#4d9221\"],[1,\"#276419\"]],\"sequential\":[[0.0,\"#0d0887\"],[0.1111111111111111,\"#46039f\"],[0.2222222222222222,\"#7201a8\"],[0.3333333333333333,\"#9c179e\"],[0.4444444444444444,\"#bd3786\"],[0.5555555555555556,\"#d8576b\"],[0.6666666666666666,\"#ed7953\"],[0.7777777777777778,\"#fb9f3a\"],[0.8888888888888888,\"#fdca26\"],[1.0,\"#f0f921\"]],\"sequentialminus\":[[0.0,\"#0d0887\"],[0.1111111111111111,\"#46039f\"],[0.2222222222222222,\"#7201a8\"],[0.3333333333333333,\"#9c179e\"],[0.4444444444444444,\"#bd3786\"],[0.5555555555555556,\"#d8576b\"],[0.6666666666666666,\"#ed7953\"],[0.7777777777777778,\"#fb9f3a\"],[0.8888888888888888,\"#fdca26\"],[1.0,\"#f0f921\"]]},\"colorway\":[\"#636efa\",\"#EF553B\",\"#00cc96\",\"#ab63fa\",\"#FFA15A\",\"#19d3f3\",\"#FF6692\",\"#B6E880\",\"#FF97FF\",\"#FECB52\"],\"font\":{\"color\":\"#2a3f5f\"},\"geo\":{\"bgcolor\":\"white\",\"lakecolor\":\"white\",\"landcolor\":\"#E5ECF6\",\"showlakes\":true,\"showland\":true,\"subunitcolor\":\"white\"},\"hoverlabel\":{\"align\":\"left\"},\"hovermode\":\"closest\",\"mapbox\":{\"style\":\"light\"},\"paper_bgcolor\":\"white\",\"plot_bgcolor\":\"#E5ECF6\",\"polar\":{\"angularaxis\":{\"gridcolor\":\"white\",\"linecolor\":\"white\",\"ticks\":\"\"},\"bgcolor\":\"#E5ECF6\",\"radialaxis\":{\"gridcolor\":\"white\",\"linecolor\":\"white\",\"ticks\":\"\"}},\"scene\":{\"xaxis\":{\"backgroundcolor\":\"#E5ECF6\",\"gridcolor\":\"white\",\"gridwidth\":2,\"linecolor\":\"white\",\"showbackground\":true,\"ticks\":\"\",\"zerolinecolor\":\"white\"},\"yaxis\":{\"backgroundcolor\":\"#E5ECF6\",\"gridcolor\":\"white\",\"gridwidth\":2,\"linecolor\":\"white\",\"showbackground\":true,\"ticks\":\"\",\"zerolinecolor\":\"white\"},\"zaxis\":{\"backgroundcolor\":\"#E5ECF6\",\"gridcolor\":\"white\",\"gridwidth\":2,\"linecolor\":\"white\",\"showbackground\":true,\"ticks\":\"\",\"zerolinecolor\":\"white\"}},\"shapedefaults\":{\"line\":{\"color\":\"#2a3f5f\"}},\"ternary\":{\"aaxis\":{\"gridcolor\":\"white\",\"linecolor\":\"white\",\"ticks\":\"\"},\"baxis\":{\"gridcolor\":\"white\",\"linecolor\":\"white\",\"ticks\":\"\"},\"bgcolor\":\"#E5ECF6\",\"caxis\":{\"gridcolor\":\"white\",\"linecolor\":\"white\",\"ticks\":\"\"}},\"title\":{\"x\":0.05},\"xaxis\":{\"automargin\":true,\"gridcolor\":\"white\",\"linecolor\":\"white\",\"ticks\":\"\",\"title\":{\"standoff\":15},\"zerolinecolor\":\"white\",\"zerolinewidth\":2},\"yaxis\":{\"automargin\":true,\"gridcolor\":\"white\",\"linecolor\":\"white\",\"ticks\":\"\",\"title\":{\"standoff\":15},\"zerolinecolor\":\"white\",\"zerolinewidth\":2}}},\"xaxis\":{\"anchor\":\"y\",\"domain\":[0.0,1.0],\"title\":{\"text\":\"company_location\"}},\"yaxis\":{\"anchor\":\"x\",\"domain\":[0.0,1.0],\"title\":{\"text\":\"salary_in_usd\"}},\"legend\":{\"tracegroupgap\":0},\"margin\":{\"t\":60},\"barmode\":\"relative\"},                        {\"responsive\": true}                    ).then(function(){\n",
              "                            \n",
              "var gd = document.getElementById('e052ff59-3420-40eb-a772-71157368daea');\n",
              "var x = new MutationObserver(function (mutations, observer) {{\n",
              "        var display = window.getComputedStyle(gd).display;\n",
              "        if (!display || display === 'none') {{\n",
              "            console.log([gd, 'removed!']);\n",
              "            Plotly.purge(gd);\n",
              "            observer.disconnect();\n",
              "        }}\n",
              "}});\n",
              "\n",
              "// Listen for the removal of the full notebook cells\n",
              "var notebookContainer = gd.closest('#notebook-container');\n",
              "if (notebookContainer) {{\n",
              "    x.observe(notebookContainer, {childList: true});\n",
              "}}\n",
              "\n",
              "// Listen for the clearing of the current output cell\n",
              "var outputEl = gd.closest('.output');\n",
              "if (outputEl) {{\n",
              "    x.observe(outputEl, {childList: true});\n",
              "}}\n",
              "\n",
              "                        })                };                            </script>        </div>\n",
              "</body>\n",
              "</html>"
            ]
          },
          "metadata": {}
        }
      ]
    },
    {
      "cell_type": "markdown",
      "source": [
        "Widać różnice średnich zarobków na podstawie krajów. Ostatecznie zestaw danych zostaje ograniczony do USA, ze względu na negatywny wpływ różnych krajów na przewidywanie"
      ],
      "metadata": {
        "id": "r-R0G1ShdxaT"
      }
    },
    {
      "cell_type": "code",
      "source": [
        "# clean_df['company_location']=clean_df['company_location'].astype('category').cat.codes\n",
        "clean_df = clean_df[clean_df['company_location']=='US']\n",
        "clean_df = clean_df.drop(columns=['company_location'])\n",
        "clean_df = clean_df.drop(columns=['employee_residence'])"
      ],
      "metadata": {
        "id": "Kq1-nWU416R_"
      },
      "execution_count": null,
      "outputs": []
    },
    {
      "cell_type": "markdown",
      "source": [
        "Różnice między latami nie są duże"
      ],
      "metadata": {
        "id": "rj6Kb9ZKppZJ"
      }
    },
    {
      "cell_type": "code",
      "source": [
        "clean_df = clean_df.drop(columns=['work_year'])"
      ],
      "metadata": {
        "id": "Trov_GFUqot2"
      },
      "execution_count": null,
      "outputs": []
    },
    {
      "cell_type": "markdown",
      "source": [
        "Przekonwertowanie kolumny ze stringami nazw zawodów na szereg kolumn boolean:"
      ],
      "metadata": {
        "id": "GQHVxpyFxBft"
      }
    },
    {
      "cell_type": "code",
      "source": [
        "clean_df = pd.get_dummies(clean_df\n",
        "               ,columns = ['job_title']\n",
        "               ,drop_first = True\n",
        "               )"
      ],
      "metadata": {
        "id": "iTwMCczFxM96"
      },
      "execution_count": null,
      "outputs": []
    },
    {
      "cell_type": "markdown",
      "source": [
        "Aby przewidywane wartości były liczbami całkowitymi użyje konwersji do inta."
      ],
      "metadata": {
        "id": "iwGwYvNQTmIj"
      }
    },
    {
      "cell_type": "code",
      "source": [
        "clean_df['salary_in_usd'] = clean_df['salary_in_usd'].astype(int)"
      ],
      "metadata": {
        "id": "j2LA4nSDTuJq"
      },
      "execution_count": null,
      "outputs": []
    },
    {
      "cell_type": "markdown",
      "source": [
        "## Ostateczny zestaw danych wygląda tak:"
      ],
      "metadata": {
        "id": "3NxBG3XniCoH"
      }
    },
    {
      "cell_type": "code",
      "source": [
        "clean_df"
      ],
      "metadata": {
        "colab": {
          "base_uri": "https://localhost:8080/",
          "height": 522
        },
        "id": "VLzcXQUaiHkf",
        "outputId": "f33d0f9d-5020-4eb0-81c4-b8596e0328c9"
      },
      "execution_count": null,
      "outputs": [
        {
          "output_type": "execute_result",
          "data": {
            "text/plain": [
              "     salary_in_usd  remote_ratio  experience_level_no.  employment_type_no.  \\\n",
              "4           150000            50                     3                    3   \n",
              "5            72000           100                     1                    3   \n",
              "6           190000           100                     3                    3   \n",
              "8           135000           100                     2                    3   \n",
              "13           87000           100                     2                    3   \n",
              "..             ...           ...                   ...                  ...   \n",
              "602         154000           100                     3                    3   \n",
              "603         126000           100                     3                    3   \n",
              "604         129000             0                     3                    3   \n",
              "605         150000           100                     3                    3   \n",
              "606         200000           100                     2                    3   \n",
              "\n",
              "     company_size_no.  job_title_Computer Vision Engineer  \\\n",
              "4                   3                                   0   \n",
              "5                   3                                   0   \n",
              "6                   1                                   0   \n",
              "8                   3                                   0   \n",
              "13                  3                                   0   \n",
              "..                ...                                 ...   \n",
              "602                 2                                   0   \n",
              "603                 2                                   0   \n",
              "604                 2                                   0   \n",
              "605                 2                                   0   \n",
              "606                 3                                   0   \n",
              "\n",
              "     job_title_Data Analyst  job_title_Data Architect  \\\n",
              "4                         0                         0   \n",
              "5                         1                         0   \n",
              "6                         0                         0   \n",
              "8                         1                         0   \n",
              "13                        1                         0   \n",
              "..                      ...                       ...   \n",
              "602                       0                         0   \n",
              "603                       0                         0   \n",
              "604                       1                         0   \n",
              "605                       1                         0   \n",
              "606                       0                         0   \n",
              "\n",
              "     job_title_Data Engineer  job_title_Data Science Manager  \\\n",
              "4                          0                               0   \n",
              "5                          0                               0   \n",
              "6                          0                               0   \n",
              "8                          0                               0   \n",
              "13                         0                               0   \n",
              "..                       ...                             ...   \n",
              "602                        1                               0   \n",
              "603                        1                               0   \n",
              "604                        0                               0   \n",
              "605                        0                               0   \n",
              "606                        0                               0   \n",
              "\n",
              "     job_title_Data Scientist  job_title_Machine Learning Engineer  \\\n",
              "4                           0                                    1   \n",
              "5                           0                                    0   \n",
              "6                           1                                    0   \n",
              "8                           0                                    0   \n",
              "13                          0                                    0   \n",
              "..                        ...                                  ...   \n",
              "602                         0                                    0   \n",
              "603                         0                                    0   \n",
              "604                         0                                    0   \n",
              "605                         0                                    0   \n",
              "606                         0                                    1   \n",
              "\n",
              "     job_title_Machine Learning Scientist  job_title_Research Scientist  \n",
              "4                                       0                             0  \n",
              "5                                       0                             0  \n",
              "6                                       0                             0  \n",
              "8                                       0                             0  \n",
              "13                                      0                             0  \n",
              "..                                    ...                           ...  \n",
              "602                                     0                             0  \n",
              "603                                     0                             0  \n",
              "604                                     0                             0  \n",
              "605                                     0                             0  \n",
              "606                                     0                             0  \n",
              "\n",
              "[355 rows x 14 columns]"
            ],
            "text/html": [
              "\n",
              "  <div id=\"df-68655b1c-e04f-4eb5-bc53-e509dbc56f23\">\n",
              "    <div class=\"colab-df-container\">\n",
              "      <div>\n",
              "<style scoped>\n",
              "    .dataframe tbody tr th:only-of-type {\n",
              "        vertical-align: middle;\n",
              "    }\n",
              "\n",
              "    .dataframe tbody tr th {\n",
              "        vertical-align: top;\n",
              "    }\n",
              "\n",
              "    .dataframe thead th {\n",
              "        text-align: right;\n",
              "    }\n",
              "</style>\n",
              "<table border=\"1\" class=\"dataframe\">\n",
              "  <thead>\n",
              "    <tr style=\"text-align: right;\">\n",
              "      <th></th>\n",
              "      <th>salary_in_usd</th>\n",
              "      <th>remote_ratio</th>\n",
              "      <th>experience_level_no.</th>\n",
              "      <th>employment_type_no.</th>\n",
              "      <th>company_size_no.</th>\n",
              "      <th>job_title_Computer Vision Engineer</th>\n",
              "      <th>job_title_Data Analyst</th>\n",
              "      <th>job_title_Data Architect</th>\n",
              "      <th>job_title_Data Engineer</th>\n",
              "      <th>job_title_Data Science Manager</th>\n",
              "      <th>job_title_Data Scientist</th>\n",
              "      <th>job_title_Machine Learning Engineer</th>\n",
              "      <th>job_title_Machine Learning Scientist</th>\n",
              "      <th>job_title_Research Scientist</th>\n",
              "    </tr>\n",
              "  </thead>\n",
              "  <tbody>\n",
              "    <tr>\n",
              "      <th>4</th>\n",
              "      <td>150000</td>\n",
              "      <td>50</td>\n",
              "      <td>3</td>\n",
              "      <td>3</td>\n",
              "      <td>3</td>\n",
              "      <td>0</td>\n",
              "      <td>0</td>\n",
              "      <td>0</td>\n",
              "      <td>0</td>\n",
              "      <td>0</td>\n",
              "      <td>0</td>\n",
              "      <td>1</td>\n",
              "      <td>0</td>\n",
              "      <td>0</td>\n",
              "    </tr>\n",
              "    <tr>\n",
              "      <th>5</th>\n",
              "      <td>72000</td>\n",
              "      <td>100</td>\n",
              "      <td>1</td>\n",
              "      <td>3</td>\n",
              "      <td>3</td>\n",
              "      <td>0</td>\n",
              "      <td>1</td>\n",
              "      <td>0</td>\n",
              "      <td>0</td>\n",
              "      <td>0</td>\n",
              "      <td>0</td>\n",
              "      <td>0</td>\n",
              "      <td>0</td>\n",
              "      <td>0</td>\n",
              "    </tr>\n",
              "    <tr>\n",
              "      <th>6</th>\n",
              "      <td>190000</td>\n",
              "      <td>100</td>\n",
              "      <td>3</td>\n",
              "      <td>3</td>\n",
              "      <td>1</td>\n",
              "      <td>0</td>\n",
              "      <td>0</td>\n",
              "      <td>0</td>\n",
              "      <td>0</td>\n",
              "      <td>0</td>\n",
              "      <td>1</td>\n",
              "      <td>0</td>\n",
              "      <td>0</td>\n",
              "      <td>0</td>\n",
              "    </tr>\n",
              "    <tr>\n",
              "      <th>8</th>\n",
              "      <td>135000</td>\n",
              "      <td>100</td>\n",
              "      <td>2</td>\n",
              "      <td>3</td>\n",
              "      <td>3</td>\n",
              "      <td>0</td>\n",
              "      <td>1</td>\n",
              "      <td>0</td>\n",
              "      <td>0</td>\n",
              "      <td>0</td>\n",
              "      <td>0</td>\n",
              "      <td>0</td>\n",
              "      <td>0</td>\n",
              "      <td>0</td>\n",
              "    </tr>\n",
              "    <tr>\n",
              "      <th>13</th>\n",
              "      <td>87000</td>\n",
              "      <td>100</td>\n",
              "      <td>2</td>\n",
              "      <td>3</td>\n",
              "      <td>3</td>\n",
              "      <td>0</td>\n",
              "      <td>1</td>\n",
              "      <td>0</td>\n",
              "      <td>0</td>\n",
              "      <td>0</td>\n",
              "      <td>0</td>\n",
              "      <td>0</td>\n",
              "      <td>0</td>\n",
              "      <td>0</td>\n",
              "    </tr>\n",
              "    <tr>\n",
              "      <th>...</th>\n",
              "      <td>...</td>\n",
              "      <td>...</td>\n",
              "      <td>...</td>\n",
              "      <td>...</td>\n",
              "      <td>...</td>\n",
              "      <td>...</td>\n",
              "      <td>...</td>\n",
              "      <td>...</td>\n",
              "      <td>...</td>\n",
              "      <td>...</td>\n",
              "      <td>...</td>\n",
              "      <td>...</td>\n",
              "      <td>...</td>\n",
              "      <td>...</td>\n",
              "    </tr>\n",
              "    <tr>\n",
              "      <th>602</th>\n",
              "      <td>154000</td>\n",
              "      <td>100</td>\n",
              "      <td>3</td>\n",
              "      <td>3</td>\n",
              "      <td>2</td>\n",
              "      <td>0</td>\n",
              "      <td>0</td>\n",
              "      <td>0</td>\n",
              "      <td>1</td>\n",
              "      <td>0</td>\n",
              "      <td>0</td>\n",
              "      <td>0</td>\n",
              "      <td>0</td>\n",
              "      <td>0</td>\n",
              "    </tr>\n",
              "    <tr>\n",
              "      <th>603</th>\n",
              "      <td>126000</td>\n",
              "      <td>100</td>\n",
              "      <td>3</td>\n",
              "      <td>3</td>\n",
              "      <td>2</td>\n",
              "      <td>0</td>\n",
              "      <td>0</td>\n",
              "      <td>0</td>\n",
              "      <td>1</td>\n",
              "      <td>0</td>\n",
              "      <td>0</td>\n",
              "      <td>0</td>\n",
              "      <td>0</td>\n",
              "      <td>0</td>\n",
              "    </tr>\n",
              "    <tr>\n",
              "      <th>604</th>\n",
              "      <td>129000</td>\n",
              "      <td>0</td>\n",
              "      <td>3</td>\n",
              "      <td>3</td>\n",
              "      <td>2</td>\n",
              "      <td>0</td>\n",
              "      <td>1</td>\n",
              "      <td>0</td>\n",
              "      <td>0</td>\n",
              "      <td>0</td>\n",
              "      <td>0</td>\n",
              "      <td>0</td>\n",
              "      <td>0</td>\n",
              "      <td>0</td>\n",
              "    </tr>\n",
              "    <tr>\n",
              "      <th>605</th>\n",
              "      <td>150000</td>\n",
              "      <td>100</td>\n",
              "      <td>3</td>\n",
              "      <td>3</td>\n",
              "      <td>2</td>\n",
              "      <td>0</td>\n",
              "      <td>1</td>\n",
              "      <td>0</td>\n",
              "      <td>0</td>\n",
              "      <td>0</td>\n",
              "      <td>0</td>\n",
              "      <td>0</td>\n",
              "      <td>0</td>\n",
              "      <td>0</td>\n",
              "    </tr>\n",
              "    <tr>\n",
              "      <th>606</th>\n",
              "      <td>200000</td>\n",
              "      <td>100</td>\n",
              "      <td>2</td>\n",
              "      <td>3</td>\n",
              "      <td>3</td>\n",
              "      <td>0</td>\n",
              "      <td>0</td>\n",
              "      <td>0</td>\n",
              "      <td>0</td>\n",
              "      <td>0</td>\n",
              "      <td>0</td>\n",
              "      <td>1</td>\n",
              "      <td>0</td>\n",
              "      <td>0</td>\n",
              "    </tr>\n",
              "  </tbody>\n",
              "</table>\n",
              "<p>355 rows × 14 columns</p>\n",
              "</div>\n",
              "      <button class=\"colab-df-convert\" onclick=\"convertToInteractive('df-68655b1c-e04f-4eb5-bc53-e509dbc56f23')\"\n",
              "              title=\"Convert this dataframe to an interactive table.\"\n",
              "              style=\"display:none;\">\n",
              "        \n",
              "  <svg xmlns=\"http://www.w3.org/2000/svg\" height=\"24px\"viewBox=\"0 0 24 24\"\n",
              "       width=\"24px\">\n",
              "    <path d=\"M0 0h24v24H0V0z\" fill=\"none\"/>\n",
              "    <path d=\"M18.56 5.44l.94 2.06.94-2.06 2.06-.94-2.06-.94-.94-2.06-.94 2.06-2.06.94zm-11 1L8.5 8.5l.94-2.06 2.06-.94-2.06-.94L8.5 2.5l-.94 2.06-2.06.94zm10 10l.94 2.06.94-2.06 2.06-.94-2.06-.94-.94-2.06-.94 2.06-2.06.94z\"/><path d=\"M17.41 7.96l-1.37-1.37c-.4-.4-.92-.59-1.43-.59-.52 0-1.04.2-1.43.59L10.3 9.45l-7.72 7.72c-.78.78-.78 2.05 0 2.83L4 21.41c.39.39.9.59 1.41.59.51 0 1.02-.2 1.41-.59l7.78-7.78 2.81-2.81c.8-.78.8-2.07 0-2.86zM5.41 20L4 18.59l7.72-7.72 1.47 1.35L5.41 20z\"/>\n",
              "  </svg>\n",
              "      </button>\n",
              "      \n",
              "  <style>\n",
              "    .colab-df-container {\n",
              "      display:flex;\n",
              "      flex-wrap:wrap;\n",
              "      gap: 12px;\n",
              "    }\n",
              "\n",
              "    .colab-df-convert {\n",
              "      background-color: #E8F0FE;\n",
              "      border: none;\n",
              "      border-radius: 50%;\n",
              "      cursor: pointer;\n",
              "      display: none;\n",
              "      fill: #1967D2;\n",
              "      height: 32px;\n",
              "      padding: 0 0 0 0;\n",
              "      width: 32px;\n",
              "    }\n",
              "\n",
              "    .colab-df-convert:hover {\n",
              "      background-color: #E2EBFA;\n",
              "      box-shadow: 0px 1px 2px rgba(60, 64, 67, 0.3), 0px 1px 3px 1px rgba(60, 64, 67, 0.15);\n",
              "      fill: #174EA6;\n",
              "    }\n",
              "\n",
              "    [theme=dark] .colab-df-convert {\n",
              "      background-color: #3B4455;\n",
              "      fill: #D2E3FC;\n",
              "    }\n",
              "\n",
              "    [theme=dark] .colab-df-convert:hover {\n",
              "      background-color: #434B5C;\n",
              "      box-shadow: 0px 1px 3px 1px rgba(0, 0, 0, 0.15);\n",
              "      filter: drop-shadow(0px 1px 2px rgba(0, 0, 0, 0.3));\n",
              "      fill: #FFFFFF;\n",
              "    }\n",
              "  </style>\n",
              "\n",
              "      <script>\n",
              "        const buttonEl =\n",
              "          document.querySelector('#df-68655b1c-e04f-4eb5-bc53-e509dbc56f23 button.colab-df-convert');\n",
              "        buttonEl.style.display =\n",
              "          google.colab.kernel.accessAllowed ? 'block' : 'none';\n",
              "\n",
              "        async function convertToInteractive(key) {\n",
              "          const element = document.querySelector('#df-68655b1c-e04f-4eb5-bc53-e509dbc56f23');\n",
              "          const dataTable =\n",
              "            await google.colab.kernel.invokeFunction('convertToInteractive',\n",
              "                                                     [key], {});\n",
              "          if (!dataTable) return;\n",
              "\n",
              "          const docLinkHtml = 'Like what you see? Visit the ' +\n",
              "            '<a target=\"_blank\" href=https://colab.research.google.com/notebooks/data_table.ipynb>data table notebook</a>'\n",
              "            + ' to learn more about interactive tables.';\n",
              "          element.innerHTML = '';\n",
              "          dataTable['output_type'] = 'display_data';\n",
              "          await google.colab.output.renderOutput(dataTable, element);\n",
              "          const docLink = document.createElement('div');\n",
              "          docLink.innerHTML = docLinkHtml;\n",
              "          element.appendChild(docLink);\n",
              "        }\n",
              "      </script>\n",
              "    </div>\n",
              "  </div>\n",
              "  "
            ]
          },
          "metadata": {},
          "execution_count": 1075
        }
      ]
    },
    {
      "cell_type": "code",
      "source": [
        "corr = clean_df.corr()\n",
        "fig, ax = plt.subplots(figsize=(15,10))\n",
        "sb.heatmap(corr, cmap=\"Blues\", annot=True)"
      ],
      "metadata": {
        "colab": {
          "base_uri": "https://localhost:8080/",
          "height": 784
        },
        "id": "bc_pD27y1axo",
        "outputId": "e9e7b7b8-ec7b-424b-a364-9ea7739b001a"
      },
      "execution_count": null,
      "outputs": [
        {
          "output_type": "execute_result",
          "data": {
            "text/plain": [
              "<matplotlib.axes._subplots.AxesSubplot at 0x7fa5205f6ac0>"
            ]
          },
          "metadata": {},
          "execution_count": 1076
        },
        {
          "output_type": "display_data",
          "data": {
            "text/plain": [
              "<Figure size 1080x720 with 2 Axes>"
            ],
            "image/png": "[encoded data removed]"
          },
          "metadata": {
            "needs_background": "light"
          }
        }
      ]
    },
    {
      "cell_type": "markdown",
      "source": [
        "##Modelowanie i ewaluacja"
      ],
      "metadata": {
        "id": "-I3JczT_CaZr"
      }
    },
    {
      "cell_type": "code",
      "source": [
        "model = LinearRegression()\n",
        "\n",
        "def train_and_predict(dataset):\n",
        "  y = dataset['salary_in_usd']\n",
        "  X = dataset.drop(columns=['salary_in_usd'])\n",
        "  X_train, X_test, y_train, y_test = train_test_split(X, y, test_size = .2)\n",
        "\n",
        "  model.fit(X_train, y_train)\n",
        "\n",
        "  # Make predictions using the testing set\n",
        "  y_pred = model.predict(X_test)\n",
        "\n",
        "  # The mean squared error\n",
        "  print(\"Mean squared error: %.2f\" % mean_squared_error(y_test, y_pred))\n",
        "  # The coefficient of determination: 1 is perfect prediction\n",
        "  print(\"Coefficient of determination: %.2f\" % r2_score(y_test, y_pred))\n",
        "\n",
        "\n",
        "train_and_predict(clean_df)"
      ],
      "metadata": {
        "id": "OX-EOTopBaBu",
        "colab": {
          "base_uri": "https://localhost:8080/"
        },
        "outputId": "512f4ede-39c6-45d0-c225-d5251c0bd7b4"
      },
      "execution_count": null,
      "outputs": [
        {
          "output_type": "stream",
          "name": "stdout",
          "text": [
            "Mean squared error: 3069763068.91\n",
            "Coefficient of determination: 0.17\n"
          ]
        }
      ]
    },
    {
      "cell_type": "markdown",
      "source": [
        "Obecnie wyniki są dosyć losowe"
      ],
      "metadata": {
        "id": "WuzoDo3NvTdI"
      }
    },
    {
      "cell_type": "markdown",
      "source": [
        "Usunięte zostaną wartości odstające"
      ],
      "metadata": {
        "id": "Zpm4vA48B1rr"
      }
    },
    {
      "cell_type": "code",
      "source": [
        "df_filtered = pd.DataFrame()\n",
        "\n",
        "for column in clean_df:\n",
        "  if 'job_title_' in column:\n",
        "    filtered_rows = clean_df[clean_df[column]==1]\n",
        "\n",
        "    q_low = filtered_rows['salary_in_usd'].quantile(0.25)\n",
        "    q_hi  = filtered_rows['salary_in_usd'].quantile(0.75)\n",
        "\n",
        "    df_filtered = df_filtered.append(filtered_rows[(filtered_rows['salary_in_usd'] < q_hi) & (filtered_rows['salary_in_usd'] > q_low)])\n",
        "\n",
        "\n",
        "\n",
        "for x in df_filtered['experience_level_no.'].unique():\n",
        "  filtered_rows2 = df_filtered[df_filtered['experience_level_no.']==x]\n",
        "\n",
        "  q_low = filtered_rows['salary_in_usd'].quantile(0.25)\n",
        "  q_hi  = filtered_rows['salary_in_usd'].quantile(0.75)\n",
        "\n",
        "  df_filtered2 = df_filtered.append(filtered_rows[(filtered_rows['salary_in_usd'] < q_hi) & (filtered_rows['salary_in_usd'] > q_low)])  \n",
        "\n",
        "\n",
        "train_and_predict(df_filtered2)"
      ],
      "metadata": {
        "colab": {
          "base_uri": "https://localhost:8080/"
        },
        "id": "O_NS73e0B0uk",
        "outputId": "741ed316-3691-4eb7-fb4a-23e96fe20605"
      },
      "execution_count": null,
      "outputs": [
        {
          "output_type": "stream",
          "name": "stdout",
          "text": [
            "Mean squared error: 248999764.05\n",
            "Coefficient of determination: 0.64\n"
          ]
        }
      ]
    },
    {
      "cell_type": "markdown",
      "source": [
        "# Podsumowanie"
      ],
      "metadata": {
        "id": "4ENFxSmYVce2"
      }
    },
    {
      "cell_type": "code",
      "source": [
        "input_frame = pd.DataFrame({'remote_ratio': [0, 50, 100, 50, 50, 50, 50],\n",
        "                  'experience_level_no.': [1, 1, 1, 2, 2, 2, 2],\n",
        "                  'employment_type_no.': [3, 3, 3, 3, 3, 3, 4],\n",
        "                  'company_size_no.': [2, 2, 2, 2, 3, 2, 3],\n",
        "                  'job_title_Computer Vision Engineer': [0, 0, 0, 0, 0, 0, 0],\n",
        "                  'job_title_Data Analyst': [0, 0, 0, 0, 0, 0, 0],\n",
        "                  'job_title_Data Architect': [0, 0, 0, 0, 0, 0, 0],\n",
        "                  'job_title_Data Engineer': [0, 0, 0, 0, 0, 0, 0],\n",
        "                  'job_title_Data Science Manager': [0, 0, 0, 0, 0, 0, 0],\n",
        "                  'job_title_Data Scientist': [1, 1, 1, 1, 1, 1, 1],\n",
        "                  'job_title_Machine Learning Engineer': [0, 0, 0, 0, 0, 0, 0],\n",
        "                  'job_title_Machine Learning Scientist': [0, 0, 0, 0, 0, 0, 0],\n",
        "                  'job_title_Research Scientist': [0, 0, 0, 0, 0, 0, 0]\n",
        "                   }\n",
        "                  )\n",
        "\n",
        "input_frame['predicted_salary'] = model.predict(input_frame)\n",
        "input_frame['predicted_salary'] = input_frame['predicted_salary'].astype(int)\n",
        "input_frame"
      ],
      "metadata": {
        "colab": {
          "base_uri": "https://localhost:8080/",
          "height": 368
        },
        "id": "kFsFYc3TPIGV",
        "outputId": "5c3ff308-6d5d-4e2e-be07-955aedba682b"
      },
      "execution_count": null,
      "outputs": [
        {
          "output_type": "execute_result",
          "data": {
            "text/plain": [
              "   remote_ratio  experience_level_no.  employment_type_no.  company_size_no.  \\\n",
              "0             0                     1                    3                 2   \n",
              "1            50                     1                    3                 2   \n",
              "2           100                     1                    3                 2   \n",
              "3            50                     2                    3                 2   \n",
              "4            50                     2                    3                 3   \n",
              "5            50                     2                    3                 2   \n",
              "6            50                     2                    4                 3   \n",
              "\n",
              "   job_title_Computer Vision Engineer  job_title_Data Analyst  \\\n",
              "0                                   0                       0   \n",
              "1                                   0                       0   \n",
              "2                                   0                       0   \n",
              "3                                   0                       0   \n",
              "4                                   0                       0   \n",
              "5                                   0                       0   \n",
              "6                                   0                       0   \n",
              "\n",
              "   job_title_Data Architect  job_title_Data Engineer  \\\n",
              "0                         0                        0   \n",
              "1                         0                        0   \n",
              "2                         0                        0   \n",
              "3                         0                        0   \n",
              "4                         0                        0   \n",
              "5                         0                        0   \n",
              "6                         0                        0   \n",
              "\n",
              "   job_title_Data Science Manager  job_title_Data Scientist  \\\n",
              "0                               0                         1   \n",
              "1                               0                         1   \n",
              "2                               0                         1   \n",
              "3                               0                         1   \n",
              "4                               0                         1   \n",
              "5                               0                         1   \n",
              "6                               0                         1   \n",
              "\n",
              "   job_title_Machine Learning Engineer  job_title_Machine Learning Scientist  \\\n",
              "0                                    0                                     0   \n",
              "1                                    0                                     0   \n",
              "2                                    0                                     0   \n",
              "3                                    0                                     0   \n",
              "4                                    0                                     0   \n",
              "5                                    0                                     0   \n",
              "6                                    0                                     0   \n",
              "\n",
              "   job_title_Research Scientist  predicted_salary  \n",
              "0                             0            126082  \n",
              "1                             0            123991  \n",
              "2                             0            121899  \n",
              "3                             0            136219  \n",
              "4                             0            136252  \n",
              "5                             0            136219  \n",
              "6                             0            150545  "
            ],
            "text/html": [
              "\n",
              "  <div id=\"df-2335d498-251c-44d6-adeb-18457df9691f\">\n",
              "    <div class=\"colab-df-container\">\n",
              "      <div>\n",
              "<style scoped>\n",
              "    .dataframe tbody tr th:only-of-type {\n",
              "        vertical-align: middle;\n",
              "    }\n",
              "\n",
              "    .dataframe tbody tr th {\n",
              "        vertical-align: top;\n",
              "    }\n",
              "\n",
              "    .dataframe thead th {\n",
              "        text-align: right;\n",
              "    }\n",
              "</style>\n",
              "<table border=\"1\" class=\"dataframe\">\n",
              "  <thead>\n",
              "    <tr style=\"text-align: right;\">\n",
              "      <th></th>\n",
              "      <th>remote_ratio</th>\n",
              "      <th>experience_level_no.</th>\n",
              "      <th>employment_type_no.</th>\n",
              "      <th>company_size_no.</th>\n",
              "      <th>job_title_Computer Vision Engineer</th>\n",
              "      <th>job_title_Data Analyst</th>\n",
              "      <th>job_title_Data Architect</th>\n",
              "      <th>job_title_Data Engineer</th>\n",
              "      <th>job_title_Data Science Manager</th>\n",
              "      <th>job_title_Data Scientist</th>\n",
              "      <th>job_title_Machine Learning Engineer</th>\n",
              "      <th>job_title_Machine Learning Scientist</th>\n",
              "      <th>job_title_Research Scientist</th>\n",
              "      <th>predicted_salary</th>\n",
              "    </tr>\n",
              "  </thead>\n",
              "  <tbody>\n",
              "    <tr>\n",
              "      <th>0</th>\n",
              "      <td>0</td>\n",
              "      <td>1</td>\n",
              "      <td>3</td>\n",
              "      <td>2</td>\n",
              "      <td>0</td>\n",
              "      <td>0</td>\n",
              "      <td>0</td>\n",
              "      <td>0</td>\n",
              "      <td>0</td>\n",
              "      <td>1</td>\n",
              "      <td>0</td>\n",
              "      <td>0</td>\n",
              "      <td>0</td>\n",
              "      <td>126082</td>\n",
              "    </tr>\n",
              "    <tr>\n",
              "      <th>1</th>\n",
              "      <td>50</td>\n",
              "      <td>1</td>\n",
              "      <td>3</td>\n",
              "      <td>2</td>\n",
              "      <td>0</td>\n",
              "      <td>0</td>\n",
              "      <td>0</td>\n",
              "      <td>0</td>\n",
              "      <td>0</td>\n",
              "      <td>1</td>\n",
              "      <td>0</td>\n",
              "      <td>0</td>\n",
              "      <td>0</td>\n",
              "      <td>123991</td>\n",
              "    </tr>\n",
              "    <tr>\n",
              "      <th>2</th>\n",
              "      <td>100</td>\n",
              "      <td>1</td>\n",
              "      <td>3</td>\n",
              "      <td>2</td>\n",
              "      <td>0</td>\n",
              "      <td>0</td>\n",
              "      <td>0</td>\n",
              "      <td>0</td>\n",
              "      <td>0</td>\n",
              "      <td>1</td>\n",
              "      <td>0</td>\n",
              "      <td>0</td>\n",
              "      <td>0</td>\n",
              "      <td>121899</td>\n",
              "    </tr>\n",
              "    <tr>\n",
              "      <th>3</th>\n",
              "      <td>50</td>\n",
              "      <td>2</td>\n",
              "      <td>3</td>\n",
              "      <td>2</td>\n",
              "      <td>0</td>\n",
              "      <td>0</td>\n",
              "      <td>0</td>\n",
              "      <td>0</td>\n",
              "      <td>0</td>\n",
              "      <td>1</td>\n",
              "      <td>0</td>\n",
              "      <td>0</td>\n",
              "      <td>0</td>\n",
              "      <td>136219</td>\n",
              "    </tr>\n",
              "    <tr>\n",
              "      <th>4</th>\n",
              "      <td>50</td>\n",
              "      <td>2</td>\n",
              "      <td>3</td>\n",
              "      <td>3</td>\n",
              "      <td>0</td>\n",
              "      <td>0</td>\n",
              "      <td>0</td>\n",
              "      <td>0</td>\n",
              "      <td>0</td>\n",
              "      <td>1</td>\n",
              "      <td>0</td>\n",
              "      <td>0</td>\n",
              "      <td>0</td>\n",
              "      <td>136252</td>\n",
              "    </tr>\n",
              "    <tr>\n",
              "      <th>5</th>\n",
              "      <td>50</td>\n",
              "      <td>2</td>\n",
              "      <td>3</td>\n",
              "      <td>2</td>\n",
              "      <td>0</td>\n",
              "      <td>0</td>\n",
              "      <td>0</td>\n",
              "      <td>0</td>\n",
              "      <td>0</td>\n",
              "      <td>1</td>\n",
              "      <td>0</td>\n",
              "      <td>0</td>\n",
              "      <td>0</td>\n",
              "      <td>136219</td>\n",
              "    </tr>\n",
              "    <tr>\n",
              "      <th>6</th>\n",
              "      <td>50</td>\n",
              "      <td>2</td>\n",
              "      <td>4</td>\n",
              "      <td>3</td>\n",
              "      <td>0</td>\n",
              "      <td>0</td>\n",
              "      <td>0</td>\n",
              "      <td>0</td>\n",
              "      <td>0</td>\n",
              "      <td>1</td>\n",
              "      <td>0</td>\n",
              "      <td>0</td>\n",
              "      <td>0</td>\n",
              "      <td>150545</td>\n",
              "    </tr>\n",
              "  </tbody>\n",
              "</table>\n",
              "</div>\n",
              "      <button class=\"colab-df-convert\" onclick=\"convertToInteractive('df-2335d498-251c-44d6-adeb-18457df9691f')\"\n",
              "              title=\"Convert this dataframe to an interactive table.\"\n",
              "              style=\"display:none;\">\n",
              "        \n",
              "  <svg xmlns=\"http://www.w3.org/2000/svg\" height=\"24px\"viewBox=\"0 0 24 24\"\n",
              "       width=\"24px\">\n",
              "    <path d=\"M0 0h24v24H0V0z\" fill=\"none\"/>\n",
              "    <path d=\"M18.56 5.44l.94 2.06.94-2.06 2.06-.94-2.06-.94-.94-2.06-.94 2.06-2.06.94zm-11 1L8.5 8.5l.94-2.06 2.06-.94-2.06-.94L8.5 2.5l-.94 2.06-2.06.94zm10 10l.94 2.06.94-2.06 2.06-.94-2.06-.94-.94-2.06-.94 2.06-2.06.94z\"/><path d=\"M17.41 7.96l-1.37-1.37c-.4-.4-.92-.59-1.43-.59-.52 0-1.04.2-1.43.59L10.3 9.45l-7.72 7.72c-.78.78-.78 2.05 0 2.83L4 21.41c.39.39.9.59 1.41.59.51 0 1.02-.2 1.41-.59l7.78-7.78 2.81-2.81c.8-.78.8-2.07 0-2.86zM5.41 20L4 18.59l7.72-7.72 1.47 1.35L5.41 20z\"/>\n",
              "  </svg>\n",
              "      </button>\n",
              "      \n",
              "  <style>\n",
              "    .colab-df-container {\n",
              "      display:flex;\n",
              "      flex-wrap:wrap;\n",
              "      gap: 12px;\n",
              "    }\n",
              "\n",
              "    .colab-df-convert {\n",
              "      background-color: #E8F0FE;\n",
              "      border: none;\n",
              "      border-radius: 50%;\n",
              "      cursor: pointer;\n",
              "      display: none;\n",
              "      fill: #1967D2;\n",
              "      height: 32px;\n",
              "      padding: 0 0 0 0;\n",
              "      width: 32px;\n",
              "    }\n",
              "\n",
              "    .colab-df-convert:hover {\n",
              "      background-color: #E2EBFA;\n",
              "      box-shadow: 0px 1px 2px rgba(60, 64, 67, 0.3), 0px 1px 3px 1px rgba(60, 64, 67, 0.15);\n",
              "      fill: #174EA6;\n",
              "    }\n",
              "\n",
              "    [theme=dark] .colab-df-convert {\n",
              "      background-color: #3B4455;\n",
              "      fill: #D2E3FC;\n",
              "    }\n",
              "\n",
              "    [theme=dark] .colab-df-convert:hover {\n",
              "      background-color: #434B5C;\n",
              "      box-shadow: 0px 1px 3px 1px rgba(0, 0, 0, 0.15);\n",
              "      filter: drop-shadow(0px 1px 2px rgba(0, 0, 0, 0.3));\n",
              "      fill: #FFFFFF;\n",
              "    }\n",
              "  </style>\n",
              "\n",
              "      <script>\n",
              "        const buttonEl =\n",
              "          document.querySelector('#df-2335d498-251c-44d6-adeb-18457df9691f button.colab-df-convert');\n",
              "        buttonEl.style.display =\n",
              "          google.colab.kernel.accessAllowed ? 'block' : 'none';\n",
              "\n",
              "        async function convertToInteractive(key) {\n",
              "          const element = document.querySelector('#df-2335d498-251c-44d6-adeb-18457df9691f');\n",
              "          const dataTable =\n",
              "            await google.colab.kernel.invokeFunction('convertToInteractive',\n",
              "                                                     [key], {});\n",
              "          if (!dataTable) return;\n",
              "\n",
              "          const docLinkHtml = 'Like what you see? Visit the ' +\n",
              "            '<a target=\"_blank\" href=https://colab.research.google.com/notebooks/data_table.ipynb>data table notebook</a>'\n",
              "            + ' to learn more about interactive tables.';\n",
              "          element.innerHTML = '';\n",
              "          dataTable['output_type'] = 'display_data';\n",
              "          await google.colab.output.renderOutput(dataTable, element);\n",
              "          const docLink = document.createElement('div');\n",
              "          docLink.innerHTML = docLinkHtml;\n",
              "          element.appendChild(docLink);\n",
              "        }\n",
              "      </script>\n",
              "    </div>\n",
              "  </div>\n",
              "  "
            ]
          },
          "metadata": {},
          "execution_count": 1084
        }
      ]
    },
    {
      "cell_type": "markdown",
      "source": [
        "### Przegląd paru przypadków na podstawie przewidywań modelu:\n",
        "- Praca junior data scientist jest najlepiej płatna gdy pracuje się stacjonarnie.\\\n",
        "- W wypadku \"mida\" przy takich samych parametrach, gdzie jedyna różnica to wielkość przedsiębiorstwa, nieznacznie więcej zaraobi pracujący w dużej korporacji.\n",
        "- Senior data scientist zarobi znacznie więcej na kontrakcie niż umowie o prace na pełen etat"
      ],
      "metadata": {
        "id": "RIBs0z_MX1bQ"
      }
    },
    {
      "cell_type": "markdown",
      "source": [
        "Wybrany przeze mnie model sprawdza sie dobrze w przewidywaniu wynagrodzenia, ale do wytrenowania potrzebuje odpowiedniego przekroju danych. Sądzę, że mając do wiekszej liczby danych przewidywani byłyby znacznie bardziej precyzyjne."
      ],
      "metadata": {
        "id": "Bdr4eczsgQEt"
      }
    }
  ]
}